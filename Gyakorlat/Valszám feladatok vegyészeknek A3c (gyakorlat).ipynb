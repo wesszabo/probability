{
 "cells": [
  {
   "cell_type": "markdown",
   "metadata": {
    "toc": "true"
   },
   "source": [
    "<h1>Table of Contents<span class=\"tocSkip\"></span></h1>\n",
    "<div class=\"toc\" style=\"margin-top: 1em;\"><ul class=\"toc-item\"><li><span><a href=\"#1.-hét\" data-toc-modified-id=\"1.-hét-1\"><span class=\"toc-item-num\">1&nbsp;&nbsp;</span>1. hét</a></span><ul class=\"toc-item\"><li><span><a href=\"#Permutációk\" data-toc-modified-id=\"Permutációk-1.1\"><span class=\"toc-item-num\">1.1&nbsp;&nbsp;</span>Permutációk</a></span></li><li><span><a href=\"#Variációk\" data-toc-modified-id=\"Variációk-1.2\"><span class=\"toc-item-num\">1.2&nbsp;&nbsp;</span>Variációk</a></span></li><li><span><a href=\"#Kombinációk\" data-toc-modified-id=\"Kombinációk-1.3\"><span class=\"toc-item-num\">1.3&nbsp;&nbsp;</span>Kombinációk</a></span></li><li><span><a href=\"#Vegyes-feladatok\" data-toc-modified-id=\"Vegyes-feladatok-1.4\"><span class=\"toc-item-num\">1.4&nbsp;&nbsp;</span>Vegyes feladatok</a></span></li></ul></li><li><span><a href=\"#2.-hét\" data-toc-modified-id=\"2.-hét-2\"><span class=\"toc-item-num\">2&nbsp;&nbsp;</span>2. hét</a></span><ul class=\"toc-item\"><li><span><a href=\"#Elemi-valószínűségek\" data-toc-modified-id=\"Elemi-valószínűségek-2.1\"><span class=\"toc-item-num\">2.1&nbsp;&nbsp;</span>Elemi valószínűségek</a></span></li></ul></li><li><span><a href=\"#3.-hét\" data-toc-modified-id=\"3.-hét-3\"><span class=\"toc-item-num\">3&nbsp;&nbsp;</span>3. hét</a></span><ul class=\"toc-item\"><li><span><a href=\"#Feltételes-valószínűség,-események-függetlensége,-teljesen-független-események\" data-toc-modified-id=\"Feltételes-valószínűség,-események-függetlensége,-teljesen-független-események-3.1\"><span class=\"toc-item-num\">3.1&nbsp;&nbsp;</span>Feltételes valószínűség, események függetlensége, teljesen független események</a></span></li><li><span><a href=\"#Teljes-valószínűség-tétele,-Bayes-tétel\" data-toc-modified-id=\"Teljes-valószínűség-tétele,-Bayes-tétel-3.2\"><span class=\"toc-item-num\">3.2&nbsp;&nbsp;</span>Teljes valószínűség tétele, Bayes tétel</a></span></li></ul></li><li><span><a href=\"#4.-hét\" data-toc-modified-id=\"4.-hét-4\"><span class=\"toc-item-num\">4&nbsp;&nbsp;</span>4. hét</a></span><ul class=\"toc-item\"><li><span><a href=\"#Valószínűségi-változó,-valószínűség-eloszlások,-eloszlásfüggvény\" data-toc-modified-id=\"Valószínűségi-változó,-valószínűség-eloszlások,-eloszlásfüggvény-4.1\"><span class=\"toc-item-num\">4.1&nbsp;&nbsp;</span>Valószínűségi változó, valószínűség eloszlások, eloszlásfüggvény</a></span></li><li><span><a href=\"#Sűrűségfüggvény\" data-toc-modified-id=\"Sűrűségfüggvény-4.2\"><span class=\"toc-item-num\">4.2&nbsp;&nbsp;</span>Sűrűségfüggvény</a></span></li></ul></li><li><span><a href=\"#5.hét\" data-toc-modified-id=\"5.hét-5\"><span class=\"toc-item-num\">5&nbsp;&nbsp;</span>5.hét</a></span><ul class=\"toc-item\"><li><span><a href=\"#Diszkrét-eloszlások-(Binomiális,-Geometriai,-Poisson)\" data-toc-modified-id=\"Diszkrét-eloszlások-(Binomiális,-Geometriai,-Poisson)-5.1\"><span class=\"toc-item-num\">5.1&nbsp;&nbsp;</span>Diszkrét eloszlások (Binomiális, Geometriai, Poisson)</a></span><ul class=\"toc-item\"><li><span><a href=\"#Megoldások\" data-toc-modified-id=\"Megoldások-5.1.1\"><span class=\"toc-item-num\">5.1.1&nbsp;&nbsp;</span>Megoldások</a></span></li></ul></li><li><span><a href=\"#Folytonos-eloszlások-(Egyenletes,-exponenciális,-normális)\" data-toc-modified-id=\"Folytonos-eloszlások-(Egyenletes,-exponenciális,-normális)-5.2\"><span class=\"toc-item-num\">5.2&nbsp;&nbsp;</span>Folytonos eloszlások (Egyenletes, exponenciális, normális)</a></span><ul class=\"toc-item\"><li><span><a href=\"#Megoldások\" data-toc-modified-id=\"Megoldások-5.2.1\"><span class=\"toc-item-num\">5.2.1&nbsp;&nbsp;</span>Megoldások</a></span></li></ul></li></ul></li><li><span><a href=\"#6.hét\" data-toc-modified-id=\"6.hét-6\"><span class=\"toc-item-num\">6&nbsp;&nbsp;</span>6.hét</a></span><ul class=\"toc-item\"><li><span><a href=\"#Nagy-számok-törvénye,-Markov-,-Csebisev-egyenlőtlenség,-Laplace-Moivre-tétel\" data-toc-modified-id=\"Nagy-számok-törvénye,-Markov-,-Csebisev-egyenlőtlenség,-Laplace-Moivre-tétel-6.1\"><span class=\"toc-item-num\">6.1&nbsp;&nbsp;</span>Nagy számok törvénye, Markov-, Csebisev egyenlőtlenség, Laplace-Moivre tétel</a></span><ul class=\"toc-item\"><li><span><a href=\"#Megoldások\" data-toc-modified-id=\"Megoldások-6.1.1\"><span class=\"toc-item-num\">6.1.1&nbsp;&nbsp;</span>Megoldások</a></span></li></ul></li></ul></li><li><span><a href=\"#7.hét\" data-toc-modified-id=\"7.hét-7\"><span class=\"toc-item-num\">7&nbsp;&nbsp;</span>7.hét</a></span></li></ul></div>"
   ]
  },
  {
   "cell_type": "markdown",
   "metadata": {},
   "source": [
    "<p style=\"font-size: 3em;\">FELADATOK</p>"
   ]
  },
  {
   "cell_type": "code",
   "execution_count": 2,
   "metadata": {
    "collapsed": true
   },
   "outputs": [],
   "source": [
    "%matplotlib notebook\n",
    "import requests\n",
    "from IPython.display import HTML, Latex\n",
    "import numpy as np\n",
    "from sympy import *\n",
    "from sympy.solvers import solve\n",
    "from scipy.special import erf, erfinv\n",
    "import matplotlib.pyplot as plt\n",
    "from mpl_toolkits import mplot3d"
   ]
  },
  {
   "cell_type": "code",
   "execution_count": 3,
   "metadata": {
    "collapsed": true
   },
   "outputs": [],
   "source": [
    "init_printing(use_unicode=True) # nice output"
   ]
  },
  {
   "cell_type": "code",
   "execution_count": 4,
   "metadata": {
    "collapsed": true
   },
   "outputs": [],
   "source": [
    "x, y, z = symbols('x y z')"
   ]
  },
  {
   "cell_type": "code",
   "execution_count": 5,
   "metadata": {
    "collapsed": true
   },
   "outputs": [],
   "source": [
    "a, m, p = symbols('a m p') # parameters"
   ]
  },
  {
   "cell_type": "markdown",
   "metadata": {},
   "source": [
    "<div class=\"exercises\">\n",
    "$$\n",
    "\\begin{align*}\n",
    "\\Phi(x) &:=\\frac{1}{\\sqrt{2\\pi}}\\int_{-\\infty}^x e^{-t^2/2}dt \\\\\n",
    "\\text{erf}(x) &:=\\frac{2}{\\sqrt{\\pi}}\\int_0^x e^{-t^2}dt\\\\\n",
    "\\Phi(x) &=\\frac{1}{2}\\left[1+\\text{erf}\\left(\\frac{x}{\\sqrt{2}} \\right) \\right].\n",
    "\\end{align*}\n",
    "$$\n",
    "</div>"
   ]
  },
  {
   "cell_type": "markdown",
   "metadata": {},
   "source": [
    "<div class=\"exercises\">\n",
    "$$x=\\Phi^{-1}(y)$$\n",
    "$$x=\\sqrt{2}\\text{erf}^{-1}(2y-1)$$\n",
    "</div>"
   ]
  },
  {
   "cell_type": "code",
   "execution_count": 8,
   "metadata": {
    "collapsed": true
   },
   "outputs": [],
   "source": [
    "def Phi(u):\n",
    "    return (1+erf(u/np.sqrt(2)))/2"
   ]
  },
  {
   "cell_type": "code",
   "execution_count": 9,
   "metadata": {
    "collapsed": true
   },
   "outputs": [],
   "source": [
    "def Phiinv(v):\n",
    "    return np.sqrt(2)*erfinv(2*v-1)"
   ]
  },
  {
   "cell_type": "markdown",
   "metadata": {},
   "source": [
    "# 1. hét"
   ]
  },
  {
   "cell_type": "code",
   "execution_count": 25,
   "metadata": {
    "hide_input": true,
    "scrolled": false
   },
   "outputs": [
    {
     "data": {
      "text/html": [
       "<iframe src=\"https://drive.google.com/file/d/0B_s1BCdqI_GRVXFIakFuNU9vR1k/preview\" width=\"850\" height=\"450\"></iframe>"
      ],
      "text/plain": [
       "<IPython.core.display.HTML object>"
      ]
     },
     "execution_count": 25,
     "metadata": {},
     "output_type": "execute_result"
    }
   ],
   "source": [
    "HTML('<iframe src=\"https://drive.google.com/file/d/0B_s1BCdqI_GRVXFIakFuNU9vR1k/preview\" width=\"850\" height=\"450\"></iframe>')"
   ]
  },
  {
   "cell_type": "markdown",
   "metadata": {
    "solution2": "hidden",
    "solution2_first": true
   },
   "source": [
    "## Permutációk"
   ]
  },
  {
   "cell_type": "markdown",
   "metadata": {
    "solution2": "hidden"
   },
   "source": [
    "<div class=\"solution\">\n",
    "<ol>\n",
    "  <li>$5!=120.$</li>\n",
    "  <li>$n!=720\\quad\\Longrightarrow\\quad n=6.$</li>\n",
    "  <li>$6!=720.$</li>\n",
    "  <li>\n",
    "  <ol>\n",
    "      <li>$\\frac{6!}{2!2!}=180.$</li>\n",
    "      <li>$\\frac{7!}{4!3!}=35.$</li>\n",
    "  </ol>\n",
    "  </li>\n",
    "  <li>$\\frac{16!}{10!4!2!}=120120.$</li>\n",
    "  <li>$\\frac{6!}{2!2!2!}= 90.$</li>\n",
    "</ol>\n",
    "</div>"
   ]
  },
  {
   "cell_type": "markdown",
   "metadata": {
    "hide_input": true,
    "solution2": "hidden",
    "solution2_first": true
   },
   "source": [
    "## Variációk"
   ]
  },
  {
   "cell_type": "markdown",
   "metadata": {
    "collapsed": true,
    "solution2": "hidden"
   },
   "source": [
    "<div class=\"solution\">\n",
    "<ol>\n",
    "  <li>$78\\cdot 77\\cdot 76\\cdot 75\\cdot 74=2533330800.$</li>\n",
    "  <li>$6\\cdot 5\\cdot 4=120.$</li>\n",
    "  <li>$3^{13}=1594323.$</li>\n",
    "  <li>$6^6=46656.$</li>\n",
    "</ol>\n",
    "</div>"
   ]
  },
  {
   "cell_type": "markdown",
   "metadata": {
    "solution2": "hidden",
    "solution2_first": true
   },
   "source": [
    "## Kombinációk"
   ]
  },
  {
   "cell_type": "markdown",
   "metadata": {
    "collapsed": true,
    "hide_input": false,
    "solution2": "hidden"
   },
   "source": [
    "<div class=\"solution\">\n",
    "<ol>\n",
    "  <li>$\\binom{6}{2}=15.$</li>\n",
    "  <li>$\\binom{12}{6}=924.$</li>\n",
    "  <li>20 selejtes.\n",
    "      <ol>\n",
    "          <li>$\\binom{500-20}{10}=162803202667438684560.$</li>\n",
    "          <li>$\\binom{20}{10}=184756.$</li>\n",
    "          <li>$\\binom{480}{5}\\binom{20}{5}=207945120096\\cdot 15504=3223981141968384.$</li>\n",
    "          <li>$\\binom{480}{10}+\\binom{480}{9}\\binom{20}{1}+\\binom{480}{8}\\binom{20}{2}+ \n",
    "               \\binom{480}{7}\\binom{20}{3}$\n",
    "               \n",
    "               $=245727518772758927560.$\n",
    "          </li>\n",
    "          <li>$\\binom{500}{10}-\\binom{480}{10}=83007386134452414140.$\n",
    "      </ol>\n",
    "  </li>\n",
    "  <li>\n",
    "      <ol>\n",
    "          <li>$\\binom{16}{5}=4368.$</li>\n",
    "          <li>$\\binom{16+5-1}{5}=15504.$</li>\n",
    "      </ol>\n",
    "  </li>\n",
    "</ol>\n",
    "</div>"
   ]
  },
  {
   "cell_type": "markdown",
   "metadata": {
    "collapsed": true,
    "solution2": "hidden",
    "solution2_first": true
   },
   "source": [
    "## Vegyes feladatok"
   ]
  },
  {
   "cell_type": "markdown",
   "metadata": {
    "collapsed": true,
    "solution2": "hidden"
   },
   "source": [
    "<div class=\"solution\">\n",
    "<ol>\n",
    "  <li>20 selejtes.\n",
    "      <ol>\n",
    "          <li>$\\binom{480+10-1}{10}=196380545341459420656.$</li>\n",
    "          <li>$\\binom{20+10-1}{10}=20030010.$</li>\n",
    "          <li>$\\binom{480+5-1}{5}\\binom{20+5-1}{5}=9214555734768384.$</li>\n",
    "          <li>$\\binom{480+10-1}{10}+\\binom{480+9-1}{9}\\binom{20}{1}$\n",
    "          \n",
    "              $+\\binom{480+8-1}{8}\\binom{20+2-1}{2}+\\binom{480+7-1}{7}\\binom{20+3-1}{3}$\n",
    "               \n",
    "              $=133488601520294705256.$\n",
    "          </li>\n",
    "          <li>$\\binom{500+10-1}{10}-\\binom{480+10-1}{10}=97911338401763709394.$\n",
    "      </ol>\n",
    "  </li>\n",
    "  <li>$\\binom{14}{8}\\binom{6}{2}\\binom{4}{4}=45045.$</li>\n",
    "  <li>$\\frac{5!}{5}2^5=768.$</li>\n",
    "  <li>\n",
    "      <ol>\n",
    "          <li>$\\binom{12}{3}\\binom{9}{4}\\binom{5}{5}= 27720.$</li>\n",
    "          <li>$\\binom{10}{1}\\binom{9}{4}\\binom{5}{5}$\n",
    "          \n",
    "              $+\\binom{12}{3}\\binom{7}{2}\\binom{5}{5}$\n",
    "              \n",
    "              $+\\binom{12}{3}\\binom{9}{4}\\binom{3}{3}=33600.$\n",
    "          \n",
    "          </li>\n",
    "      </ol>\n",
    "  </li>\n",
    "  <li>$6^3-5^3=91.$</li>\n",
    "</ol>\n",
    "</div>"
   ]
  },
  {
   "cell_type": "markdown",
   "metadata": {
    "collapsed": true
   },
   "source": [
    "# 2. hét"
   ]
  },
  {
   "cell_type": "code",
   "execution_count": 24,
   "metadata": {
    "hide_input": true,
    "scrolled": false
   },
   "outputs": [
    {
     "data": {
      "text/html": [
       "<iframe src=\"https://drive.google.com/file/d/0B_s1BCdqI_GRRkxGNU13R0FpYjQ/preview\" width=\"850\" height=\"450\"></iframe>"
      ],
      "text/plain": [
       "<IPython.core.display.HTML object>"
      ]
     },
     "execution_count": 24,
     "metadata": {},
     "output_type": "execute_result"
    }
   ],
   "source": [
    "HTML('<iframe src=\"https://drive.google.com/file/d/0B_s1BCdqI_GRRkxGNU13R0FpYjQ/preview\" width=\"850\" height=\"450\"></iframe>')"
   ]
  },
  {
   "cell_type": "markdown",
   "metadata": {
    "collapsed": true,
    "hide_input": true,
    "solution2": "hidden",
    "solution2_first": true
   },
   "source": [
    "## Elemi valószínűségek"
   ]
  },
  {
   "cell_type": "markdown",
   "metadata": {
    "collapsed": true,
    "solution2": "hidden"
   },
   "source": [
    "<div class=\"solution\">\n",
    "<ol start=\"5\">\n",
    "  <li>$1-\\dfrac{\\binom{24}{3}}{\\binom{32}{3}}=$.\n",
    "  </li>\n",
    "  <li>$\\dfrac{\\binom{13}{8}2^5}{3^{13}}=$.\n",
    "  </li>\n",
    "  <li>$\\dfrac{\\binom{5}{k}\\binom{85}{5-k}}{\\binom{90}{5}}=$.\n",
    "   $\\qquad\\displaystyle{\\sum_{k=3}^5 \\dfrac{\\binom{5}{k}\\binom{85}{5-k}}{\\binom{90}{5}} }$.</li>\n",
    "  <li>$1-\\dfrac{\\binom{950+10-1}{10}}{\\binom{1000+10-1}{10}}$, \n",
    "      $1-\\dfrac{\\binom{950}{10}}{\\binom{1000}{10}}$.\n",
    "  </li>\n",
    "  <li>$1-P(A+B)=1-(P(A)+P(B)-P(AB))=$.\n",
    "  </li>\n",
    "  <li>$\\dfrac{1}{\\frac{8!}{2!4!2!}}=$.\n",
    "  </li>\n",
    "  <li>$1-\\dfrac{6!}{6^6}=$.\n",
    "  </li>\n",
    "  <li>$\\dfrac{\\binom{7}{2}5^5}{6^8}=$.\n",
    "  </li>\n",
    "  <li>$1-\\dfrac{5^6}{6^6}=$, illetve $1-\\left(\\dfrac{5^{12}}{6^{12}}+\\dfrac{\\binom{12}{1}5^{11}}{6^{12}} \\right)=$.\n",
    "  </li>\n",
    "  <li>$1-\\dfrac{1}{2^n}\\gt 0.9$. Ebből $n\\ge 4$.\n",
    "  </li>\n",
    "  <li>$\\dfrac{\\frac{7!}{6!1!}}{\\frac{10!}{6!4!}}=$.\n",
    "  </li>\n",
    "  <li>$\\dfrac{\\binom{85}{5}\\binom{80}{5}}{\\binom{90}{5}\\binom{85}{5}}=$. \n",
    "  $\\quad\\dfrac{\\binom{85}{5}\\binom{80}{5}+\\binom{5}{1}\\binom{85}{5}\\binom{80}{4}\n",
    "  +\\binom{5}{1}\\binom{4}{1}\\binom{85}{4}\\binom{81}{4}}\n",
    "  {\\binom{90}{5}\\binom{85}{5}}=$.\n",
    "  </li>\n",
    "  <li>$\\dfrac{\\binom{10}{5}5^5}{6^{10}}=$.\n",
    "  </li>\n",
    "  <li>Visszatevés nélkül:\n",
    "      <ol type=\"a\">\n",
    "         <li> $\\frac{\\binom{20}{2}}{\\binom{50}{2}}=$</li>\n",
    "         <li> $\\frac{\\binom{30}{2}}{\\binom{50}{2}}=$</li>\n",
    "         <li> $\\frac{20\\cdot 30}{\\binom{50}{2}}=$</li>\n",
    "      </ol>\n",
    "  Visszatevéssel:\n",
    "      <ol type=\"a\">\n",
    "          <li> $\\left(\\frac{20}{50}\\right)^2=$</li>\n",
    "          <li> $\\left(\\frac{30}{50}\\right)^2=$</li>\n",
    "          <li> $2\\left(\\frac{20}{50}\\right)\\left(\\frac{30}{50}\\right)=$</li>\n",
    "      </ol>\n",
    "  </li>\n",
    "</ol>\n",
    "</div>"
   ]
  },
  {
   "cell_type": "markdown",
   "metadata": {
    "collapsed": true
   },
   "source": [
    "# 3. hét"
   ]
  },
  {
   "cell_type": "code",
   "execution_count": 23,
   "metadata": {
    "hide_input": true,
    "scrolled": false
   },
   "outputs": [
    {
     "data": {
      "text/html": [
       "<iframe src=\"https://drive.google.com/file/d/0B_s1BCdqI_GRLXNNWllJVGRaZDA/preview\" width=\"850\" height=\"450\"></iframe>"
      ],
      "text/plain": [
       "<IPython.core.display.HTML object>"
      ]
     },
     "execution_count": 23,
     "metadata": {},
     "output_type": "execute_result"
    }
   ],
   "source": [
    "HTML('<iframe src=\"https://drive.google.com/file/d/0B_s1BCdqI_GRLXNNWllJVGRaZDA/preview\" width=\"850\" height=\"450\"></iframe>')"
   ]
  },
  {
   "cell_type": "markdown",
   "metadata": {
    "collapsed": true,
    "solution2": "hidden",
    "solution2_first": true
   },
   "source": [
    "##  Feltételes valószínűség, események függetlensége, teljesen független események"
   ]
  },
  {
   "cell_type": "markdown",
   "metadata": {
    "solution2": "hidden"
   },
   "source": [
    "<div class=\"solution\">\n",
    "<ol>\n",
    "  <li>- legalább az egyik: $P(F_1+F_2)\\leq 10^{-6}+10^{-6}$.   <br/>\n",
    "      - mind a kettő előfordul: $P(F_1 F_2)\\leq 10^{-6}$\n",
    "  </li>\n",
    "  <li>A $P(A+B)=P(A)+P(B)-P(AB)$ felhasználásával azt kell ellenőrizni, hogy \n",
    "  a $P(AB)=P(A)P(B)$ feltétel teljesül-e. <br/>\n",
    "  Az 1. és 2. esetben függetlenek, a 3.-ban nem.\n",
    "   </li>\n",
    "   <li>Feltesszük, hogy az emberek vércsoportja egymástól függetlenül $Rh^+$ vagy \n",
    "   $Rh^-$. <br/>\n",
    "   - $0.38+0.06$<br/>\n",
    "   - $0.06+0.02+0.01+0.06$<br/>\n",
    "   - $0.15\\cdot 0.15$<br/>\n",
    "   - feltételes valószínűséget számolunk $P(Rh^-\\,|\\,0)=\\dfrac{0.06}{0.44}$.\n",
    "    </li>\n",
    "    <li>Páronként függetlenek, de nem teljesen függetlenek.\n",
    "    </li>\n",
    "    <li>\n",
    "     $P(M)=0.25$, $P(F)=0.15$, $P(MF)=0.1$.\n",
    "        <ol>\n",
    "            <li>$P(M|F)$\n",
    "            </li> \n",
    "            <li>$P(F|M)$\n",
    "            </li>\n",
    "            <li>$P(F+M)=P(F)+P(M)-P(MF)$.\n",
    "            </li>\n",
    "        </ol>\n",
    "    </li>\n",
    "    <li>$P(E)=0.9$. Jelölje $T_i$ azt az eseményt, hogy az $i$-edik teremben van, \n",
    "        $P(T_i|E)=1/3$.    \n",
    "        A \n",
    "        $$\n",
    "            P(T_3E\\,|\\,\\overline{T_1}\\,\\overline{T_2})\n",
    "            =\\frac{P(T_3E\\overline{T_1}\\,\\overline{T_2})}{P(\\overline{T_1}\\,\\overline{T_2})}\n",
    "        $$\n",
    "        valószínűséget keressük. \n",
    "        $$\n",
    "        P(T_3E\\overline{T_1}\\,\\overline{T_2})=P(T_3E)=P(T_3|E)P(E)=\\frac{1}{3}\\cdot 0.9=0.3.\n",
    "        $$\n",
    "        A de Morgan azonosság felhasználásával\n",
    "        $$\n",
    "        P(\\overline{T_1}\\,\\overline{T_2})=P(\\overline{T_1+T_2})=1-P(T_1+T_2)=P((T_1+T_2)E).\n",
    "        $$\n",
    "        Továbbá\n",
    "        $$\n",
    "        P((T_1+T_2)E)=P(T_1E)+P(T_2E)=0.3+0.3=0.6.\n",
    "        $$\n",
    "        Tehát\n",
    "        $$\n",
    "        P(\\overline{T_1}\\,\\overline{T_2})=1-0.6.\n",
    "        $$\n",
    "        A keresett valószínűség a kérdésben $0.3/(1-0.6)$.        \n",
    "    </li>\n",
    "    <li>Mivel\n",
    "    \\begin{align*}\n",
    "    P(A|B) &=\\frac{P(AB)}{P(B)},\\\\\n",
    "    1 &\\geq P(A+B)=P(A)+P(B)-P(AB),\n",
    "    \\end{align*}\n",
    "    ezért $P(AB)\\geq 0.5$. Ebből következik $P(A|B)\\geq 0.625$.\n",
    "    </li>\n",
    "    <li>Jelölje $V_i$ azt az eseményt, hogy a szúnyog túléli az $i$-edik \n",
    "    vegyszeres irtást. A $P(V_1 V_2 V_3)$ valószínűséget keressük. \n",
    "    Tudjuk, hogy \n",
    "    $$\n",
    "    P(V_1)=0.2,\\quad P(V_2|V_1)=0.6,\\quad P(V_3|V_1 V_2)=0.8.\n",
    "    $$\n",
    "    A szorzás tétel alapján\n",
    "    \\begin{align*}\n",
    "    P(V_1 V_2 V_3)&=P(V_3 V_2 V_1)\\\\\n",
    "    &=P(V_3|V_2 V_1)P(V_2|V_1)P(V_1)\\\\\n",
    "    &=0.8\\cdot 0.6\\cdot 0.2=0.48.\n",
    "    \\end{align*}\n",
    "    </li>\n",
    "    <li>\n",
    "         <ol>\n",
    "             <li>$\\frac{6}{36}=\\frac{1}{6}$.\n",
    "             </li>\n",
    "             <li>\n",
    "             $$\n",
    "             P(5|2)+P(3|4)+P(1|6)=\\frac{1}{6}+\\frac{1}{6}+\\frac{1}{6}=\\frac{1}{2}.\n",
    "             $$\n",
    "             </li>\n",
    "         </ol>\n",
    "    </li>\n",
    "    \n",
    "</ol>\n",
    "</div>"
   ]
  },
  {
   "cell_type": "markdown",
   "metadata": {
    "solution2": "hidden",
    "solution2_first": true
   },
   "source": [
    "## Teljes valószínűség tétele, Bayes tétel"
   ]
  },
  {
   "cell_type": "markdown",
   "metadata": {
    "solution2": "hidden"
   },
   "source": [
    "<div class=\"solution\">\n",
    "<ol>\n",
    "    <li> Jelölje $G_i$ azt az eseményt, hogy a csavar az $i$-edik gépen készült, $S$ \n",
    "    azt az eseményt, hogy a termék selejtes. Tudjuk, hogy\n",
    "    \\begin{align*}\n",
    "    P(G_1) &=0.25,\\quad P(G_2)=0.35,\\quad P(G_3)=0.4,\\\\\n",
    "    P(S|G_1) &=0.05,\\quad P(S|G_2)=0.04,\\quad P(S|G_3)=0.02.\n",
    "    \\end{align*}\n",
    "    A teljes valószínűség tételének felhasználásával kapjuk\n",
    "    $$\n",
    "    P(S)=0.05\\cdot 0.25+0.04\\cdot 0.35+0.02\\cdot 0.4=0.0345.\n",
    "    $$\n",
    "    </li>\n",
    "    <li>\n",
    "        <ol>\n",
    "            <li>Annak valószínűsége, hogy valaki egészséges $0.96$, mert a lakosság $4\\%$-a beteg. A kérdés tehát az, hogy \n",
    "            mekkora a valószínűsége annak, hogy valaki valóban egészséges, ha a teszt azt mondja, hogy az.\n",
    "            $$\n",
    "            P(\\text{egészséges}\\,|\\,\\text{teszt szerint egészséges})=?\n",
    "            $$\n",
    "            Legyen $B_1$ az az esemény, hogy egészséges, $A$ \n",
    "            az az esemény, hogy a teszt szerint egészséges. \n",
    "            A Bayes tétel alapján\n",
    "            $$\n",
    "            P(B_1|A)=\\frac{P(A|B_1)P(B_1)}{P(A|B_1)P(B_1)+P(A|B_2)P(B_2)}.\n",
    "            $$\n",
    "            $B_1$: egészséges, $B_2$: beteg.<br/>\n",
    "            $P(B_1)=0.96$, $P(B_2)=0.04$.<br/>\n",
    "            $P(A|B_1)=0.99$, $P(A|B_2)=0.05$.<br/>\n",
    "            Tehát\n",
    "            $$\n",
    "            P(B_1|A)=\\frac{0.99\\cdot 0.96}{0.99\\cdot 0.96+0.05\\cdot 0.04}.\n",
    "            $$\n",
    "            </li>\n",
    "            <li> \n",
    "            $$\n",
    "            P(B_2|\\overline{A})=\\frac{P(\\overline{A}|B_2)P(B_2)}{P(\\overline{A}|B_2)P(B_2)\n",
    "            +P(\\overline{A}|B_1)P(B_1)}\n",
    "            $$\n",
    "            $P(\\overline{A}|B_2)=0.95$, $P(\\overline{A}|B_1)=0.01$.\n",
    "            $$\n",
    "            P(B_2|\\overline{A})=\\frac{0.95\\cdot 0.04}{0.95\\cdot 0.04+0.01\\cdot 0.96}.\n",
    "            $$\n",
    "            </li>\n",
    "        </ol>\n",
    "    </li>\n",
    "    <li>Egy felvételi tesztvizsgán a felvételre alkalmasak 80%-a ír sikeres vizsgát, az\n",
    "alkalmatlanoknak pedig a 25%-a. Tapasztalatok szerint a jelentkezőknek a 40%-a alkalmas a\n",
    "felvételre. Mekkora a felvettek között a valóban alkalmasok aránya?\n",
    "    Jelölje $A$ azt hogy alkalmas, $N$ azt hogy nem alkalmas, $S$ azt hogy sikeres vizsgát írt.\n",
    "    A $P(A\\,|\\,S)$ valószínűséget keressük. A Bayes tétel alapján\n",
    "    $$\n",
    "    P(A\\,|\\,S)=\\frac{P(S\\,|\\,A)P(A)}{P(S\\,|\\,A)P(A)+P(S\\,|\\,N)P(N)}.\n",
    "    $$\n",
    "    Itt\n",
    "    $$\n",
    "    P(A)=0.4,\\quad P(N)=0.6,\\quad P(S\\,|\\,A)=0.8,\\quad P(S\\,|\\,N)=0.25.\n",
    "    $$\n",
    "    Tehát\n",
    "    $$\n",
    "    P(A\\,|\\,S)=\\frac{0.8\\cdot 0.4}{0.8\\cdot 0.4+0.25\\cdot 0.6}.\n",
    "    $$\n",
    "    </li>\n",
    "</ol>\n",
    "</div>"
   ]
  },
  {
   "cell_type": "markdown",
   "metadata": {
    "collapsed": true
   },
   "source": [
    "# 4. hét"
   ]
  },
  {
   "cell_type": "code",
   "execution_count": 22,
   "metadata": {
    "hide_input": true,
    "scrolled": false
   },
   "outputs": [
    {
     "data": {
      "text/html": [
       "<iframe src=\"https://drive.google.com/file/d/0B_s1BCdqI_GRNElOZVlnd05zSTg/preview\" width=\"850\" height=\"450\"></iframe>"
      ],
      "text/plain": [
       "<IPython.core.display.HTML object>"
      ]
     },
     "execution_count": 22,
     "metadata": {},
     "output_type": "execute_result"
    }
   ],
   "source": [
    "HTML('<iframe src=\"https://drive.google.com/file/d/0B_s1BCdqI_GRNElOZVlnd05zSTg/preview\" width=\"850\" height=\"450\"></iframe>')"
   ]
  },
  {
   "cell_type": "markdown",
   "metadata": {
    "solution2": "shown",
    "solution2_first": true
   },
   "source": [
    "## Valószínűségi változó, valószínűség eloszlások, eloszlásfüggvény"
   ]
  },
  {
   "cell_type": "markdown",
   "metadata": {
    "solution2": "shown"
   },
   "source": [
    "<div class=\"solution\">\n",
    "<ol>\n",
    "    <li>\n",
    "        <ol>\n",
    "            <li>&nbsp;\n",
    "            \\begin{align*}\n",
    "            1 &=\\lim_{x\\to\\infty}F(x)=A+B\\frac{\\pi}{2}, \\\\\n",
    "            0 &=\\lim_{x\\to -\\infty}F(x)=A-B\\frac{\\pi}{2}.\n",
    "            \\end{align*}\n",
    "            </li>\n",
    "            Ebből $A=1/2$, $B=1/\\pi$.\n",
    "            <li>&nbsp;\n",
    "            \\begin{align*}\n",
    "            1 &=\\lim_{x\\to\\infty}F(x)=A, \\\\\n",
    "            0 &=\\lim_{x\\to -\\infty}F(x).\n",
    "            \\end{align*}\n",
    "            Mivel $F$ balról folytonos, ezért\n",
    "            $$\n",
    "            0 =\\lim_{x\\to -\\infty}F(x)=F(1)=A+\\frac{B}{2}.\n",
    "            $$\n",
    "            Ebből $A=1$, $B=-2$.\n",
    "            </li>\n",
    "        </ol>\n",
    "    </li>\n",
    "    <li>\n",
    "        <ol>\n",
    "            <li>&nbsp;\n",
    "                $$\n",
    "                   F(x) = P(\\xi\\lt x) =\n",
    "                   \\begin{cases}\n",
    "                   0,        & \\text{if  } x \\leq -1; \\\\\n",
    "                   1/4,      & \\text{if  } -1< x\\leq 0;\\\\\n",
    "                   3/8,      & \\text{if  } 0< x\\leq 1;\\\\\n",
    "                   1/2,      & \\text{if  } 1< x\\leq 2;\\\\\n",
    "                   1,        & \\text{if  } 2< x.\n",
    "                   \\end{cases}\n",
    "                $$\n",
    "             </li>\n",
    "             <li>&nbsp;\n",
    "                <div class=\"tg-wrap\"><table class=\"tg\">\n",
    "                  <tr>\n",
    "                    <th class=\"tg-031e\">$x$</th>\n",
    "                    <th class=\"tg-031e\">2</th>\n",
    "                    <th class=\"tg-031e\">3</th>\n",
    "                    <th class=\"tg-031e\">6</th>\n",
    "                  </tr>\n",
    "                  <tr>\n",
    "                    <td class=\"tg-vn4c\">P($\\eta$=x)</td>\n",
    "                    <td class=\"tg-vn4c\">1/8</td>\n",
    "                    <td class=\"tg-vn4c\">5/8</td>\n",
    "                    <td class=\"tg-vn4c\">1/4</td>\n",
    "                  </tr>\n",
    "                </table></div>\n",
    "                <br/>\n",
    "                $$\n",
    "                   F(x) = P(\\eta\\lt x) =\n",
    "                   \\begin{cases}\n",
    "                   0,        & \\text{if  } x \\leq 2; \\\\\n",
    "                   1/8,      & \\text{if  } 2< x\\leq 3;\\\\\n",
    "                   3/4,      & \\text{if  } 3< x\\leq 6;\\\\\n",
    "                   1,        & \\text{if  } 6< x.\n",
    "                   \\end{cases}\n",
    "                $$\n",
    "             </li>\n",
    "         </ol>\n",
    "    </li>\n",
    "    <li>\n",
    "        <div class=\"tg-wrap\"><table class=\"tg\">\n",
    "                  <tr>\n",
    "                    <th class=\"tg-031e\">$x$</th>\n",
    "                    <th class=\"tg-031e\">-1</th>\n",
    "                    <th class=\"tg-031e\">0</th>\n",
    "                    <th class=\"tg-031e\">1</th>\n",
    "                    <th class=\"tg-031e\">2</th>\n",
    "                  </tr>\n",
    "                  <tr>\n",
    "                    <td class=\"tg-vn4c\">P(X=x)</td>\n",
    "                    <td class=\"tg-vn4c\">1/4</td>\n",
    "                    <td class=\"tg-vn4c\">1/12</td>\n",
    "                    <td class=\"tg-vn4c\">1/2</td>\n",
    "                    <td class=\"tg-vn4c\">1/6</td>\n",
    "                  </tr>\n",
    "                </table></div>\n",
    "    </li>\n",
    "    <li>\n",
    "    </li>\n",
    "    <li>&nbsp;\n",
    "    \\begin{align*}\n",
    "    P(\\xi>3) &=1-P(\\xi\\leq 3)=1-\\lim_{x\\to 3+}F(x)=1-\\frac{5}{6}=\\frac{1}{6}.\\\\\n",
    "    P(\\xi=-1) &=P(\\xi\\leq -1)-P(\\xi\\lt-1)=\\lim_{x\\to -1+}F(x)-F(-1)=\\frac{1}{5}-0.\\\\\n",
    "    P(\\xi\\leq 1) &=\\lim_{x\\to 1+}F(x)=\\frac{2}{3}.\\\\\n",
    "    P(2\\lt\\xi\\leq 4) &=P(\\xi\\leq 4)-P(\\xi\\leq 2)=\\lim_{x\\to 4+}F(x)-\\lim_{x\\to 2+}F(x)\\\\\n",
    "                     &=1-\\frac{2}{3}=\\frac{1}{3}.\n",
    "    \\end{align*}\n",
    "    </li>\n",
    "    <li>\n",
    "        <ol>\n",
    "            <li>\n",
    "            $$\n",
    "            1-P(802\\lt X\\lt 808)=1-(F(808)-F(802))=1-(0.8-0.2)=0.4.\n",
    "            $$\n",
    "            </li>\n",
    "            <li>\n",
    "            $$\n",
    "            \\int_{\\mathbf{R}}xF'(x)\\,dx=\\int_{800}^{810}x\\cdot0.1\\,dx=805.\n",
    "            $$\n",
    "            </li>\n",
    "        </ol>\n",
    "    </li>\n",
    "</ol>\n",
    "</div>"
   ]
  },
  {
   "cell_type": "code",
   "execution_count": 18,
   "metadata": {
    "hide_input": true,
    "scrolled": false
   },
   "outputs": [
    {
     "data": {
      "image/png": "[encoded data removed]",
      "text/plain": [
       "<matplotlib.figure.Figure at 0x1c50366f278>"
      ]
     },
     "metadata": {},
     "output_type": "display_data"
    }
   ],
   "source": [
    "\"\"\"5.feladat\"\"\"\n",
    "def piecew(x):\n",
    "    conds = [x < -1, (x > -1) & (x < 0), (x > 0) & (x < 1), (x > 1) & (x < 3), (x > 3) & (x < 4), \\\n",
    "            x > 4]\n",
    "    funcs = [lambda x: 0, \n",
    "             lambda x: 1/5, \n",
    "             lambda x: (x + 1)/4, \n",
    "             lambda x: 2/3,\n",
    "             lambda x: 10/12,\n",
    "             lambda x: 1]\n",
    "    return np.piecewise(x, conds, funcs)\n",
    "\n",
    "fig = plt.figure()         \n",
    "ax = fig.add_subplot(1,1,1)                                                      \n",
    "\n",
    "# major ticks every 1, minor ticks every 0.5                                      \n",
    "xmajor_ticks = np.arange(-1.5, 5, 0.5)                                              \n",
    "xminor_ticks = np.arange(-1.5, 5, 0.5)                                               \n",
    "ymajor_ticks = np.arange(0, 1.1, 0.1)                                              \n",
    "yminor_ticks = np.arange(0, 1.1, 0.05)  \n",
    "\n",
    "ax.set_xticks(xmajor_ticks)                                                       \n",
    "ax.set_xticks(xminor_ticks, minor=True)                                           \n",
    "ax.set_yticks(ymajor_ticks)                                                       \n",
    "ax.set_yticks(yminor_ticks, minor=True)                                           \n",
    "\n",
    "# and a corresponding grid                                                       \n",
    "\n",
    "ax.grid(which='both')                                                            \n",
    "\n",
    "# or if you want different settings for the grids:                               \n",
    "ax.grid(which='minor', alpha=0.2)                                                \n",
    "ax.grid(which='major', alpha=0.5)                                                \n",
    "\n",
    "plt.title(\"5.feladat\")\n",
    "xx = np.linspace(-1.5, 4.5, 100)\n",
    "plt.plot(xx, piecew(xx))\n",
    "fig = plt.gcf()\n",
    "fig.set_size_inches(12, 8)\n",
    "plt.show()"
   ]
  },
  {
   "cell_type": "code",
   "execution_count": 6,
   "metadata": {},
   "outputs": [
    {
     "name": "stdout",
     "output_type": "stream",
     "text": [
      "[ 0.   0.1  0.2  0.3  0.4  0.5  0.6  0.7  0.8  0.9  1.   1.1  1.2  1.3  1.4\n",
      "  1.5  1.6  1.7  1.8  1.9  2.   2.1  2.2  2.3  2.4  2.5  2.6  2.7  2.8  2.9\n",
      "  3.   3.1  3.2  3.3  3.4  3.5  3.6  3.7  3.8  3.9  4.   4.1  4.2  4.3  4.4\n",
      "  4.5  4.6  4.7  4.8  4.9]\n",
      "[0.0, 0.10000000000000001, 0.20000000000000001, 0.30000000000000004, 0.40000000000000002, 0.5, 0.60000000000000009, 0.70000000000000007, 0.80000000000000004, 0.90000000000000002, 1.0, 1.1000000000000001, 1.2000000000000002, 1.3, 1.4000000000000001, 1.5, 1.6000000000000001, 1.7000000000000002, 1.8, 1.9000000000000001, 0, 2.1000000000000001, 2.2000000000000002, 2.3000000000000003, 2.4000000000000004, 2.5, 2.6000000000000001, 2.7000000000000002, 2.8000000000000003, 2.9000000000000004, 3.0, 3.1000000000000001, 3.2000000000000002, 3.3000000000000003, 3.4000000000000004, 3.5, 3.6000000000000001, 3.7000000000000002, 3.8000000000000003, 3.9000000000000004, 4.0, 4.1000000000000005, 4.2000000000000002, 4.2999999999999998, 4.4000000000000004, 4.5, 4.6000000000000005, 4.7000000000000002, 4.8000000000000007, 4.9000000000000004]\n"
     ]
    },
    {
     "data": {
      "image/png": "[encoded data removed]",
      "text/plain": [
       "<matplotlib.figure.Figure at 0x13b98366f60>"
      ]
     },
     "metadata": {},
     "output_type": "display_data"
    }
   ],
   "source": [
    "def f(x):\n",
    "    if(x == 2): return 0\n",
    "    else: return x\n",
    "\n",
    "x = np.arange(0., 5., 0.1)\n",
    "\n",
    "y = []\n",
    "for i in range(len(x)):\n",
    "    y.append(f(x[i]))\n",
    "\n",
    "print(x)\n",
    "print(y)\n",
    "\n",
    "plt.plot(x,y,c='red', ls='', ms=5, marker='.')\n",
    "ax = plt.gca()\n",
    "ax.set_ylim([-1, 14])\n",
    "\n",
    "plt.show()"
   ]
  },
  {
   "cell_type": "code",
   "execution_count": null,
   "metadata": {
    "collapsed": true
   },
   "outputs": [],
   "source": []
  },
  {
   "cell_type": "code",
   "execution_count": null,
   "metadata": {
    "collapsed": true
   },
   "outputs": [],
   "source": []
  },
  {
   "cell_type": "code",
   "execution_count": null,
   "metadata": {
    "collapsed": true
   },
   "outputs": [],
   "source": []
  },
  {
   "cell_type": "code",
   "execution_count": null,
   "metadata": {
    "collapsed": true
   },
   "outputs": [],
   "source": []
  },
  {
   "cell_type": "markdown",
   "metadata": {
    "collapsed": true,
    "solution2": "hidden",
    "solution2_first": true
   },
   "source": [
    "## Sűrűségfüggvény"
   ]
  },
  {
   "cell_type": "markdown",
   "metadata": {
    "collapsed": true,
    "solution2": "hidden"
   },
   "source": [
    "<div class=\"solution\">\n",
    "<ol start=\"7\">\n",
    "    <li>\n",
    "    \\[\n",
    "    E(\\xi)=\\int_{\\mathbf{R}}\\,xf(x)\\,dx=1.\n",
    "    \\]\n",
    "    </li>\n",
    "    <li>\n",
    "        <ol>\n",
    "            <li>\n",
    "            \\[\n",
    "            F(x)=\\int_{-\\infty}^x f(x)\\,dx.\n",
    "            \\]\n",
    "            Ezért\n",
    "            \\begin{align*}\n",
    "                   F(x) =\n",
    "                   \\begin{cases}\n",
    "                   0,                   & \\text{if  } x \\leq 100; \\\\\n",
    "                   6-\\frac{600}{x},     & \\text{if  } 100 \\lt x \\leq 120; \\\\\n",
    "                   1,                   & \\text{if  } 120 \\lt x.\n",
    "                   \\end{cases}\n",
    "            \\end{align*}\n",
    "            </li>\n",
    "            <li>\n",
    "            \\[\n",
    "            E(\\xi)=\\int_{\\mathbf{R}}\\,xf(x)\\,dx=600\\log\\left(\\frac{6}{5}\\right).\n",
    "            \\]\n",
    "            </li>\n",
    "        </ol>\n",
    "    </li>\n",
    "    <li>\n",
    "        <ol>\n",
    "            <li>Mivel\n",
    "            \\[\n",
    "            1=\\int_{\\mathbf{R}}\\,f,\n",
    "            \\]\n",
    "            ezért\n",
    "            \\[\n",
    "            a=\\frac{3}{8}.\n",
    "            \\]\n",
    "            </li>\n",
    "            <li>\n",
    "            \\[\n",
    "            P(\\xi\\leq 1)=\\int_{-\\infty}^1 f(x)\\,dx=0.125.\n",
    "            \\]\n",
    "            </li>\n",
    "            <li>\n",
    "            \\[\n",
    "            P(\\xi\\geq 1.5)=1-P(\\xi\\leq 1.5)=1-\\int_{-\\infty}^{1.5} f(x)\\,dx=0.578125.\n",
    "            \\]\n",
    "            </li>\n",
    "        </ol>\n",
    "    </li>\n",
    "</ol>\n",
    "</div>"
   ]
  },
  {
   "cell_type": "markdown",
   "metadata": {
    "collapsed": true
   },
   "source": [
    "# 5.hét"
   ]
  },
  {
   "cell_type": "code",
   "execution_count": 3,
   "metadata": {
    "hide_input": true,
    "scrolled": true
   },
   "outputs": [
    {
     "data": {
      "text/html": [
       "<iframe src=\"https://drive.google.com/file/d/0B_s1BCdqI_GRczBKdHhXbEx0bGc/preview\" width=\"850\" height=\"450\"></iframe>"
      ],
      "text/plain": [
       "<IPython.core.display.HTML object>"
      ]
     },
     "execution_count": 3,
     "metadata": {},
     "output_type": "execute_result"
    }
   ],
   "source": [
    "HTML('<iframe src=\"https://drive.google.com/file/d/0B_s1BCdqI_GRczBKdHhXbEx0bGc/preview\" width=\"850\" height=\"450\"></iframe>')"
   ]
  },
  {
   "cell_type": "markdown",
   "metadata": {
    "hide_input": true
   },
   "source": [
    "## Diszkrét eloszlások (Binomiális, Geometriai, Poisson)"
   ]
  },
  {
   "cell_type": "code",
   "execution_count": 5,
   "metadata": {
    "hide_input": true,
    "scrolled": false
   },
   "outputs": [
    {
     "data": {
      "text/html": [
       "<iframe src=\"https://en.wikipedia.org/wiki/Binomial_distribution\" width=\"850\" height=\"650\"></iframe>"
      ],
      "text/plain": [
       "<IPython.core.display.HTML object>"
      ]
     },
     "execution_count": 5,
     "metadata": {},
     "output_type": "execute_result"
    }
   ],
   "source": [
    "HTML('<iframe src=\"https://en.wikipedia.org/wiki/Binomial_distribution\" width=\"850\" height=\"650\"></iframe>')"
   ]
  },
  {
   "cell_type": "code",
   "execution_count": 8,
   "metadata": {
    "hide_input": true,
    "scrolled": false
   },
   "outputs": [
    {
     "data": {
      "text/html": [
       "<iframe src=\"https://en.wikipedia.org/wiki/Geometric_distribution\" width=\"870\" height=\"650\"></iframe>"
      ],
      "text/plain": [
       "<IPython.core.display.HTML object>"
      ]
     },
     "execution_count": 8,
     "metadata": {},
     "output_type": "execute_result"
    }
   ],
   "source": [
    "HTML('<iframe src=\"https://en.wikipedia.org/wiki/Geometric_distribution\" width=\"870\" height=\"650\"></iframe>')"
   ]
  },
  {
   "cell_type": "code",
   "execution_count": 9,
   "metadata": {
    "hide_input": true,
    "scrolled": true
   },
   "outputs": [
    {
     "data": {
      "text/html": [
       "<iframe src=\"https://en.wikipedia.org/wiki/Poisson_distribution\" width=\"850\" height=\"650\"></iframe>"
      ],
      "text/plain": [
       "<IPython.core.display.HTML object>"
      ]
     },
     "execution_count": 9,
     "metadata": {},
     "output_type": "execute_result"
    }
   ],
   "source": [
    "HTML('<iframe src=\"https://en.wikipedia.org/wiki/Poisson_distribution\" width=\"850\" height=\"650\"></iframe>')"
   ]
  },
  {
   "cell_type": "markdown",
   "metadata": {
    "solution2": "hidden",
    "solution2_first": true
   },
   "source": [
    "### Megoldások"
   ]
  },
  {
   "cell_type": "markdown",
   "metadata": {
    "solution2": "hidden"
   },
   "source": [
    "<div class=\"solution\">\n",
    "<ol>\n",
    "    <li>A valószínűségi változó jelentse a továbbított ötös jelsorozatban a helyes jelek számát. Így értékkészlete a {0,1,2,3,4,5}\n",
    "számokból álló halmaz.$n=5$, $p=0.8$. A keresett valószínűség\n",
    "    $$\n",
    "    \\sum_{k=3}^5 \\binom{5}{k}0.8^k\\cdot 0.2^{5-k}= .\n",
    "    $$\n",
    "    </li>\n",
    "    <li>$n=1000$, $p=0.13$. A keresett valószínűség\n",
    "    $$\n",
    "    \\sum_{k=120}^{1000} \\binom{1000}{k}0.13^k\\cdot 0.87^{1000-k}= .\n",
    "    $$\n",
    "    </li>\n",
    "    <li>A 20 hallgató 30%-a 6. $n=20$, $p=0.30$. Legyen a $\\xi$ valószínűségi változó a csoportban az allergiások száma.\n",
    "        <ol type=\"a\">\n",
    "            <li>\n",
    "            $$\n",
    "            P(\\xi =6)=\\binom{20}{6}0.3^6\\cdot 0.7^{20-6}= .\n",
    "            $$\n",
    "            </li>\n",
    "            <li>A várható érték $np=6$.\n",
    "            $$\n",
    "            P(\\xi <6)=\\sum_{k=0}^5 \\binom{20}{k}0.3^k\\cdot 0.7^{20-k}= .\n",
    "            $$\n",
    "            </li>\n",
    "            <li>A szórás $\\sqrt{np(1-p)}=2.04939015$.<br/>\n",
    "            $$\n",
    "            P(4\\leq\\xi\\leq 8)=\\sum_{k=4}^8 \\binom{20}{k}0.3^k\\cdot 0.7^{20-k}=\n",
    "            $$\n",
    "            </li>\n",
    "        </ol> \n",
    "    </li>\n",
    "    <li>$P(\\text{hőmérséklet}> 18^{o} C)=0.65=p$.\n",
    "        <ol type=\"a\">\n",
    "            <li>\n",
    "            $$\n",
    "            \\sum_{k=0}^3\\binom{7}{k}p^k\\cdot(1-p)^{7-k}=.\n",
    "            $$\n",
    "            </li>\n",
    "            <li>\n",
    "            $$\n",
    "            np=7\\cdot 0.65=4.55.\n",
    "            $$        \n",
    "            </li>\n",
    "        </ol> \n",
    "    </li>\n",
    "    <li>$P(\\text{lány})=0.492=p$.\n",
    "        <ol type=\"a\">\n",
    "            <li>\n",
    "            $$\n",
    "            P(X=k)=\\binom{3}{k}p^k(1-p)^{3-k},\\,\\,\\, k=0,1,2,3.\n",
    "            $$      \n",
    "            </li>\n",
    "            <li>\n",
    "            $$\n",
    "            \\sum_{k=0}^2 \\binom{3}{k}p^k(1-p)^{3-k}.\n",
    "            $$\n",
    "            </li>\n",
    "        </ol>\n",
    "    </li>\n",
    "    <li>&nbsp;\n",
    "    \\begin{align*}\n",
    "    np &=\\frac{6}{7}\\\\\n",
    "    np(1-p) &=\\left(\\frac{6}{7} \\right)^2=\\frac{36}{49}.\n",
    "    \\end{align*}\n",
    "    $1-p=\\frac{6}{7}$. Ezért $p=1/7$. Ebből $n=6$.\n",
    "    </li>\n",
    "    <li>\n",
    "    Az $X$ valószínűségi változó jelentése legyen a nyeréshez szükséges próbálkozások száma.\n",
    "    $1/p=63$, azaz, $p=1/63$.\n",
    "    $$\n",
    "    \\sum_{k=1}^N(1-p)^{k-1}p\\geq 0.99.\n",
    "    $$\n",
    "    $$\n",
    "    \\sum_{k=1}^N(1-p)^{k-1}p=p\\frac{1-(1-p)^N}{1-(1-p)}=1-(1-p)^N.\n",
    "    $$\n",
    "    Ezért\n",
    "    $$\n",
    "    0.01\\geq (1-p)^N=(62/63)^N,\n",
    "    $$\n",
    "    amiből $N\\geq 288$.\n",
    "    </li>\n",
    "    <li>\n",
    "    Az $X$ valószínűségi változó jelentése legyen a tárgy teljesítéséhez szükséges vizsgák száma. \n",
    "    $p=0.6$ a siker valószínűsége. A várható érték $1/p=1.666$\n",
    "    </li>\n",
    "    <li>\n",
    "    Az $X$ valószínűségi változó jelentése legyen a sikeres ugráshoz a próbálkozások száma. \n",
    "    $1/p=10$, azaz, $p=1/10$.\n",
    "    $$\n",
    "    (1-p)^2p=0.081.\n",
    "    $$\n",
    "    </li>\n",
    "    <li>\n",
    "    Az $X$ valószínűségi változó jelentése legyen a sikeres bekapcsoláshoz szükséges próbálkozások \n",
    "    száma. $1/p=6$, azaz, $p=1/6$. \n",
    "    $$\n",
    "    (1-p)^5p=.\n",
    "    $$\n",
    "    </li>\n",
    "        <li>A $\\xi$ valószínűségi változó jelentése az egy táblában lévő hibák száma. Így a változó \n",
    "        felveheti a $0,1,2,\\ldots,n,\\ldots$ \n",
    "        értékeket. Tehát a változó diszkrét eloszlású, és Poisson eloszlást követ, $\\lambda=0.5$.\n",
    "        <ol type=\"a\">\n",
    "            <li>Egy tábla esetén\n",
    "            $$\n",
    "            P(\\xi=0)=\\frac{\\lambda^0 e^{-\\lambda}}{0!}=e^{-0.5}=0.60653066.\n",
    "            $$\n",
    "            $100$ tábla esetén 60.6% lesz hibátlan.\n",
    "            </li>\n",
    "            <li>\n",
    "            $$\n",
    "            P(\\xi=0\\,|\\,0\\leq\\xi\\leq 3)=\\frac{P(\\xi=0,0\\leq\\xi\\leq3)}{P(0\\leq\\xi\\leq 3)}\n",
    "            $$\n",
    "            Itt\n",
    "            $$\n",
    "            P(\\xi=0,0\\leq\\xi\\leq3 )=P(\\xi=0)\n",
    "            $$\n",
    "            és\n",
    "            $$\n",
    "            P(0\\leq\\xi\\leq 3)=P(\\xi=0)+P(\\xi=1)+P(\\xi=2)+P(\\xi=3).\n",
    "            $$\n",
    "            Valamint\n",
    "            $$\n",
    "            P(\\xi=k)=\\frac{0.5^k}{k!}e^{-0.5}.\n",
    "            $$\n",
    "            </li>  \n",
    "            <li>\n",
    "            $$\n",
    "            (P(\\xi=0))^{100}=e^{-50}.\n",
    "            $$\n",
    "            </li>\n",
    "        </ol>\n",
    "        </li>\n",
    "    <li>\n",
    "    A $\\xi$ valószínűségi változó jelentse az óránkénti telefon hívások számát. Poisson eloszlás, \n",
    "    $\\lambda=2$.\n",
    "    $$\n",
    "    P(\\xi=0)=\\frac{\\lambda^0 e^{-\\lambda}}{0!}.\n",
    "    $$\n",
    "    Tehát $(P(\\xi=0))^2=e^{-4}=0.01831563888$.\n",
    "    </li>\n",
    "    <li>\n",
    "    A $\\xi$ valószínűségi változó jelentse az időintervallum alatt regisztrált részecskék számát. Ekkor \n",
    "    $P(\\xi=1)=10^{-4}=p$. Ekkor $\\xi$ egy $\\lambda=np$ paraméterű Poisson eloszlás. \n",
    "    $$\n",
    "    P(\\xi\\geq 4)=\\sum_{k=4}^{\\infty}\\frac{\\lambda^k}{k!}e^{-\\lambda}\\geq 0.99.\n",
    "    $$\n",
    "    Ebből\n",
    "    $$\n",
    "    1-P(\\xi\\leq 3)=1-\\sum_{k=0}^{3}\\frac{\\lambda^k}{k!}e^{-\\lambda}\\geq 0.99.\n",
    "    $$\n",
    "    Ebből\n",
    "    $$\n",
    "    0.01\\geq \\sum_{k=0}^{3}\\frac{\\lambda^k}{k!}e^{-\\lambda}.\n",
    "    $$\n",
    "    Ezért $\\lambda\\geq 10.045117514831616587$ és így $n\\geq 100452$.\n",
    "    </li>\n",
    "    <li>\n",
    "    A sorban állási feladatok Poisson eloszlással írhatók le. Legyen a $\\xi$ valószínűségi változó \n",
    "    a $20$ perc alatt érkezők száma. Ekkor \n",
    "    $$\n",
    "    P(\\xi=0)=e^{-1/2}=\\frac{\\lambda^0}{0!}e^{-\\lambda}.\n",
    "    $$\n",
    "    Ezért ebben a sorban állási modelben $\\lambda=1/2$, azaz a várható érték $1/2$. \n",
    "    <ol type=\"a\">\n",
    "        <li>\n",
    "        A $60$ perc alatt \n",
    "        érkező ügyfelek számának várható értéke $3/2$. Ez az $\\eta$ Poisson eloszlás \"$\\lambda$\" paramétere. \n",
    "        Tehát\n",
    "        $$\n",
    "        P(\\eta=0)=\\frac{(3/2)^0}{0!}e^{-3/2}=0.22313016.\n",
    "        $$\n",
    "        </li>\n",
    "        <li>\n",
    "        A $90$ perc alatt \n",
    "        érkező ügyfelek számának várható értéke $9/4$. Ez az $X$ Poisson eloszlás \"$\\lambda$\" paramétere. \n",
    "        $$\n",
    "        1-\\frac{(9/4)^0}{0!}e^{-9/4}=1-0.10539922456=0.89460077544.\n",
    "        $$\n",
    "        </li>\n",
    "    </ol>\n",
    "    </li>\n",
    "</ol>\n",
    "</div>"
   ]
  },
  {
   "cell_type": "markdown",
   "metadata": {},
   "source": [
    "## Folytonos eloszlások (Egyenletes, exponenciális, normális)"
   ]
  },
  {
   "cell_type": "code",
   "execution_count": 7,
   "metadata": {
    "hide_input": true,
    "scrolled": true
   },
   "outputs": [
    {
     "data": {
      "text/html": [
       "<iframe src=\"https://en.wikipedia.org/wiki/Uniform_distribution_(continuous)\" width=\"850\" height=\"650\"></iframe>"
      ],
      "text/plain": [
       "<IPython.core.display.HTML object>"
      ]
     },
     "execution_count": 7,
     "metadata": {},
     "output_type": "execute_result"
    }
   ],
   "source": [
    "HTML('<iframe src=\"https://en.wikipedia.org/wiki/Uniform_distribution_(continuous)\" width=\"850\" height=\"650\"></iframe>')"
   ]
  },
  {
   "cell_type": "code",
   "execution_count": 8,
   "metadata": {
    "hide_input": true,
    "scrolled": true
   },
   "outputs": [
    {
     "data": {
      "text/html": [
       "<iframe src=\"https://en.wikipedia.org/wiki/Exponential_distribution\" width=\"850\" height=\"650\"></iframe>"
      ],
      "text/plain": [
       "<IPython.core.display.HTML object>"
      ]
     },
     "execution_count": 8,
     "metadata": {},
     "output_type": "execute_result"
    }
   ],
   "source": [
    "HTML('<iframe src=\"https://en.wikipedia.org/wiki/Exponential_distribution\" width=\"850\" height=\"650\"></iframe>')"
   ]
  },
  {
   "cell_type": "code",
   "execution_count": 9,
   "metadata": {
    "hide_input": true,
    "scrolled": true
   },
   "outputs": [
    {
     "data": {
      "text/html": [
       "<iframe src=\"https://en.wikipedia.org/wiki/Normal_distribution\" width=\"850\" height=\"650\"></iframe>"
      ],
      "text/plain": [
       "<IPython.core.display.HTML object>"
      ]
     },
     "execution_count": 9,
     "metadata": {},
     "output_type": "execute_result"
    }
   ],
   "source": [
    "HTML('<iframe src=\"https://en.wikipedia.org/wiki/Normal_distribution\" width=\"850\" height=\"650\"></iframe>')"
   ]
  },
  {
   "cell_type": "code",
   "execution_count": null,
   "metadata": {
    "collapsed": true,
    "hide_input": true
   },
   "outputs": [],
   "source": [
    "HTML('<iframe src=\"https://en.wikipedia.org/wiki/Exponential_distribution\" width=\"850\" height=\"650\"></iframe>')"
   ]
  },
  {
   "cell_type": "markdown",
   "metadata": {
    "solution2": "hidden",
    "solution2_first": true
   },
   "source": [
    "### Megoldások"
   ]
  },
  {
   "cell_type": "markdown",
   "metadata": {
    "solution2": "hidden"
   },
   "source": [
    "<div class=\"solution\">\n",
    "<ol start=\"15\">\n",
    "    <li>\n",
    "    $$\n",
    "    f(x)=\\frac{1}{b}, \\text{ ha } x\\in (0,b),\\quad 0 \\text{ egyébként.} \n",
    "    $$\n",
    "    $$\n",
    "    \\int_0^1 \\frac{1}b\\,dx=\\frac{3}{4},\n",
    "    $$\n",
    "    ezért $b=4/3$. Így  $M(\\xi)=2/3$, $D(\\xi)=\\dfrac{4}{3\\sqrt{12}}$.\n",
    "    </li>\n",
    "    <li>Legyen az $X$ valószínűségi változó a levél érkezésének dátuma. Nem ismerjük az intervallumot, de ismerjük a várható értéket és a szórást. Ezért\n",
    "    \\begin{align*}\n",
    "    \\frac{a+b}{2} &= 17\\\\\n",
    "    \\frac{b-a}{\\sqrt{12}} &= 1.\n",
    "    \\end{align*}\n",
    "    Ebből\n",
    "    $$\n",
    "    a=17-\\sqrt{3},\\quad b=17+\\sqrt{3}.\n",
    "    $$\n",
    "    Ezért\n",
    "    $$\n",
    "    P(16\\lt X\\lt 22)=\\int_{16}^{17+\\sqrt{3}} \\frac{1}{\\sqrt{12}}\\,dx=\\frac{1+\\sqrt{3}}{\\sqrt{12}}=0.78867513459.\n",
    "    $$    \n",
    "    </li>\n",
    "    <li>&nbsp;\n",
    "    $$\n",
    "    f(x) = \n",
    "                   \\begin{cases}\n",
    "                   \\frac{1}{2\\sqrt{3}},        & \\text{if  } x \\in (-\\sqrt{3}, \\sqrt{3}); \\\\\n",
    "                   0,      & \\text{egyébként}.                  \n",
    "                   \\end{cases}\n",
    "    $$\n",
    "    Ekkor a várható érték $0$, szórás $1$.\n",
    "    $$\n",
    "    P(|X-0|\\geq 1)=\\int_{-\\sqrt{3}}^{-1}\\frac{1}{2\\sqrt{3}}\\,dx+\\int_{1}^{\\sqrt{3}}\\frac{1}{2\\sqrt{3}}\\,dx=0.422649731.\n",
    "    $$\n",
    "    </li>\n",
    "    <li>Legyen az $X$ valószínűségi változó jelentése a hívás időpontja (perc). $f(x)=\\dfrac{1}{b-8}$, ha \n",
    "    $x\\in(8,b)$, $0$ egyébként. Mivel\n",
    "    $$\n",
    "    \\int_8^{10}\\frac{1}{b-8}\\,dx=0.8,\n",
    "    $$\n",
    "    ezért $b=10.5$. \n",
    "    <ol type=\"a\">\n",
    "        <li>\n",
    "        $$\n",
    "        P(9.5\\lt X\\lt 10)=\\int_{9.5}{10}\\frac{1}{10.5-8}\\,dx=0.2.\n",
    "        $$\n",
    "        </li>\n",
    "        <li>\n",
    "        $$\n",
    "        P(9.5\\lt X\\lt 10\\,|\\,X\\gt 9.5)=\\frac{P(9.5\\lt X\\lt 10 ,X\\gt 9.5}{P(X\\gt 9.5)}=\\frac{P(9.5\\lt X\\lt 10 )}{P(X\\gt 9.5)}.\n",
    "        $$\n",
    "        Itt\n",
    "        $$\n",
    "        P(X\\gt 9.5)=\\int_{9.5}^{10.5}\\frac{1}{10.5-8}\\,dx=0.4.\n",
    "        $$\n",
    "        Tehát a keresett valószínűség $0.2/0.4=0.5$.\n",
    "        </li>\n",
    "    </ol>\n",
    "    <li>&nbsp;\n",
    "    $$\n",
    "    P(4\\lt \\xi\\lt 4.5)=\\frac{4.5-4}{8-0}=\\frac{1}{16}.\n",
    "    $$\n",
    "    Van egy másik valószínűségi változó $\\eta$, amelynek értéke azt adja meg, hogy 50 egymástól független \n",
    "    kísérletből mennyinek az eredménye esik a megadott intervallumba. Ekkor $\\eta$ felveheti a $0,1,2,\\ldots,50$ értékeket. Így $\\eta$ binomiális eloszlású valószínűségi változó $n=50$ és $p=1/16$. \n",
    "    $$\n",
    "    P(\\eta\\leq 3)=\\sum_{k=0}^3 \\binom{50}{k}\\left(\\frac{1}{16} \\right)^k \\left(\\frac{15}{16} \\right)^{50-k}= .\n",
    "    $$\n",
    "    </li>\n",
    "    <li>Az \"örökifjú\" tulajdonság miatt\n",
    "    $$\n",
    "    P(X\\geq 1000+6000\\,|\\,X\\geq 6000)=P(X\\geq 1000). \n",
    "    $$\n",
    "    Mivel $M(X)=1/\\lambda$, ezért\n",
    "    $$\n",
    "    P(X\\geq 1000)=1-P(X<1000)=1-\\left(1-e^{-\\frac{1}{5000}1000} \\right)=e^{-1/5}.\n",
    "    $$\n",
    "    </li>\n",
    "    <li>\n",
    "    Exponenciális eloszlás esetén $M(\\xi),D(\\xi)=\\dfrac{1}{\\lambda}$. Ebből $\\lambda=\\dfrac{1}{1000}$. \n",
    "    $$\n",
    "    P(\\xi\\geq 3000)=\\int_{3000}^{\\infty}\\frac{1}{1000}e^{-\\frac{1}{1000}x}\\,dx=e^{-3}.\n",
    "    $$\n",
    "    </li>\n",
    "    <li>A\n",
    "    $$\n",
    "    P(\\xi\\lt x)=1-e^{-\\frac{1}{1200}x}\\leq 0.05\n",
    "    $$\n",
    "    egyenlőtlenségből $x\\leq 61.55$. Ezért legfeljebb $61$ nap legyen a garanciaidő.\n",
    "    </li>\n",
    "    <li>\n",
    "    Ugyanaz mint a 20. feladatban, csak más számokkal.\n",
    "    </li>\n",
    "    <li>Ennek a feladatnak a megoldásához azt kell meggondolni, hogy a $\\lambda$ paraméterű Poisson eloszlás esetén, \n",
    "    milyen eloszlással jellemezhető a két esemény bekövetkezése között eltelt idő. Jelölje $\\xi$ az első         vevő érkezéséig eltelt időt. \n",
    "    Annak a valószínűsége, hogy egy $x\\gt 0$ hosszúságú időtartam alatt egy vevő sem érkezik (egyszer sem következik be az esemény)\n",
    "    $$\n",
    "    P(\\xi\\gt x)=\n",
    "    $$\n",
    "        <ol type=\"a\">\n",
    "            <li>\n",
    "            \n",
    "            </li>\n",
    "            <li>\n",
    "            \n",
    "            </li>\n",
    "        </ol>\n",
    "    </li>\n",
    "    <li>\n",
    "    \n",
    "    </li>\n",
    "    <li>\n",
    "     Jelentse az X valószínűségi változó a készülék élettartamát, azaz a meghibásodásig eltelt időt.\n",
    "     Erről tudjuk, hogy $X\\in N(6.3,\\,2)$. Keressük azt az $x$ értéket, amelyre\n",
    "     $P(X\\lt x)\\leq 0.1$. Azaz, a\n",
    "     $$\n",
    "     \\Phi\\left(\\frac{x-6.3}{2} \\right)\\leq 0.1\n",
    "     $$\n",
    "     egyenlőtlenséget kell megoldani. Mivel az eloszlásfüggvény $0.5$-nél kisebb értékeket negatív értékekre vesz fel, ezért\n",
    "     $$\n",
    "     \\Phi\\left(\\frac{6.3-x}{2} \\right)\\geq 0.9.\n",
    "     $$\n",
    "     Mivel $\\Phi(0.370807158)=0.9$, ezért\n",
    "     $$\n",
    "     \\frac{6.3-x}{2}\\geq 0.370807158.\n",
    "     $$\n",
    "     Ebből $x\\leq 5.55839$.\n",
    "    </li>\n",
    "    <li>\n",
    "    Legyen $X$ olyan valószínűségi változó, amely a deszkák hosszát jelenti. $X\\in N(400,\\,3)$.\n",
    "    <ol type=\"a\">\n",
    "        <li>&nbsp;\n",
    "        \\begin{align*}\n",
    "        P(398\\lt X\\lt 401) &=P\\left(\\frac{398-400}{3}\\lt \\frac{X-400}{3}\\lt \\frac{401-400}{3} \\right)\\\\\n",
    "        &= \\Phi\\left(\\frac{401-400}{3} \\right)-\\Phi\\left(\\frac{398-400}{3} \\right)= .\n",
    "        \\end{align*}\n",
    "        </li>\n",
    "        <li>\n",
    "        $$\n",
    "        P(397.5\\lt X\\lt 402.5)=\n",
    "        $$\n",
    "        </li>\n",
    "    </ol>\n",
    "    </li>\n",
    "    <li>\n",
    "    $\\xi\\in N(3,2)$. $P(2\\lt\\xi \\lt A)\\geq 0.5$, $A$-t keressük. Azaz,\n",
    "    $$\n",
    "    P\\left(\\frac{2-3}{2}\\lt\\frac{\\xi-3}{2}\\lt\\frac{A-3}{2} \\right)=\\Phi\\left(\\frac{A-3}{2} \\right)-\\Phi\\left(\\frac{-1}{2} \\right)\\geq 0.5.\n",
    "    $$\n",
    "    </li>\n",
    "    <li>A $\\xi$ valószínűségi változó jelentse a zajszintet dB-ben. Ekkor $\\xi\\in N(45,\\sigma)$. \n",
    "    Tudjuk, hogy $P(\\xi\\gt 50)=0.1$. Keressük $P(\\xi\\lt37)$ értékét. \n",
    "    \\begin{align*}\n",
    "    P(\\xi\\gt 50) &=P\\left(\\frac{\\xi-45}{\\sigma}\\gt \\frac{50-45}{\\sigma} \\right)\\\\\n",
    "    &= 1-\\Phi\\left(\\frac{5}{\\sigma} \\right)=0.9.\n",
    "    \\end{align*}\n",
    "    Ebből $\\sigma=$.\n",
    "    </li>\n",
    "    <li>\n",
    "    $\\xi\\in N(m,10)$. \n",
    "    $$\n",
    "    0.1=P(\\xi\\lt 20)=P\\left(\\frac{\\xi-m}{10}\\lt \\frac{20-m}{10} \\right)=\\Phi\\left(\\frac{20-m}{10} \\right).\n",
    "    $$\n",
    "    Így az $1-\\Phi\\left(\\frac{m-20}{10} \\right)$=0.1 egyenletet kell megoldani.\n",
    "    Ebből $m= $.\n",
    "    </li>\n",
    "    <li>\n",
    "    Jelentse $\\xi_i$ az $i$-edik gép által betöltött mennyiséget. Tudjuk, hogy $\\xi_1\\in N(2, 0.14)$ és\n",
    "    $\\xi_2\\in N(2, 0.08)$. Ki kell számítanunk a várható érték körüli $0.1$ dl-es ingadozás valószínűségét.\n",
    "    $$\n",
    "    \\begin{align*}\n",
    "    P(1.9<\\xi_1\\lt 2.1) &=P\\left(\\frac{1.9-2}{0.14}\\lt\\frac{\\xi_1-2}{0.14}\\lt\\frac{2.1-2}{0.14} \\right)\\\\\n",
    "    &=\\Phi(0.7142857)-\\Phi(-0.7142857)\\\\\n",
    "    &=2\\Phi(0.7142857)-1=0.524950,\n",
    "    \\end{align*}\n",
    "    $$\n",
    "    hasonlóan\n",
    "    $$\n",
    "    \\begin{align*}\n",
    "    P(1.9\\lt\\xi_1\\lt 2.1) &=P\\left(\\frac{1.9-2}{0.08}\\lt \\frac{\\xi_1-2}{0.08}\\lt \\frac{2.1-2}{0.08} \\right)\\\\\n",
    "    &=\\Phi(1.25)-\\Phi(-1.25)\\\\\n",
    "    &=2\\Phi(1.25)-1=0.78870.\n",
    "    \\end{align*}\n",
    "    $$\n",
    "    Jelentse $G_i$ azt az eseményt, hogy az $i$-edik gépen történt a töltés, $E$ \n",
    "    jelentse azt az eseményt, hogy az eltérés a várható értéktől kisebb mint $0.1$ dl.\n",
    "    Tudjuk, hogy $P(G_1)=0.60$, $P(G_2)=0.40$, valamint $P(E|G_1)=0.524950$ és \n",
    "    $P(E|G_2)=0.78870$.  A teljes valószínűség tétele alapján\n",
    "    $$\n",
    "    P(E)=0.524950\\cdot 0.60+0.78870\\cdot 0.40=0.63045.\n",
    "    $$\n",
    "    </li>\n",
    "    <li>Jelentse a $\\xi$ valószínűségi változó a vizsgán elért pontszámot. Ekkor $\\xi\\in N(100,15)$.\n",
    "    <ol type=\"a\">\n",
    "        <li>&nbsp;\n",
    "        $$\n",
    "        P(\\xi)\n",
    "        $$\n",
    "        </li>\n",
    "        <li>\n",
    "        \n",
    "        </li>\n",
    "    </ol>\n",
    "    </li>\n",
    "</ol>\n",
    "</div>"
   ]
  },
  {
   "cell_type": "markdown",
   "metadata": {},
   "source": [
    "# 6.hét"
   ]
  },
  {
   "cell_type": "code",
   "execution_count": 11,
   "metadata": {
    "hide_input": false,
    "scrolled": false
   },
   "outputs": [
    {
     "data": {
      "text/html": [
       "<iframe src=\"https://drive.google.com/file/d/0B_s1BCdqI_GRZExvNW05bFRXajg/preview\" width=\"850\" height=\"550\"></iframe>"
      ],
      "text/plain": [
       "<IPython.core.display.HTML object>"
      ]
     },
     "execution_count": 11,
     "metadata": {},
     "output_type": "execute_result"
    }
   ],
   "source": [
    "HTML('<iframe src=\"https://drive.google.com/file/d/0B_s1BCdqI_GRZExvNW05bFRXajg/preview\" width=\"850\" height=\"550\"></iframe>')"
   ]
  },
  {
   "cell_type": "markdown",
   "metadata": {},
   "source": [
    "## Nagy számok törvénye, Markov-, Csebisev egyenlőtlenség, Laplace-Moivre tétel"
   ]
  },
  {
   "cell_type": "code",
   "execution_count": 30,
   "metadata": {
    "collapsed": true,
    "hide_input": true
   },
   "outputs": [
    {
     "data": {
      "text/html": [
       "<iframe src=\"https://en.wikipedia.org/wiki/Markov%27s_inequality\" width=\"850\" height=\"650\"></iframe>"
      ],
      "text/plain": [
       "<IPython.core.display.HTML object>"
      ]
     },
     "execution_count": 30,
     "metadata": {},
     "output_type": "execute_result"
    }
   ],
   "source": [
    "HTML('<iframe src=\"https://en.wikipedia.org/wiki/Markov%27s_inequality\" width=\"850\" height=\"650\"></iframe>')"
   ]
  },
  {
   "cell_type": "code",
   "execution_count": 31,
   "metadata": {
    "collapsed": true
   },
   "outputs": [
    {
     "data": {
      "text/html": [
       "<iframe src=\"https://en.wikipedia.org/wiki/Chebyshev%27s_inequality\" width=\"850\" height=\"650\"></iframe>"
      ],
      "text/plain": [
       "<IPython.core.display.HTML object>"
      ]
     },
     "execution_count": 31,
     "metadata": {},
     "output_type": "execute_result"
    }
   ],
   "source": [
    "HTML('<iframe src=\"https://en.wikipedia.org/wiki/Chebyshev%27s_inequality\" width=\"850\" height=\"650\"></iframe>')"
   ]
  },
  {
   "cell_type": "code",
   "execution_count": 7,
   "metadata": {
    "collapsed": true,
    "hide_input": false
   },
   "outputs": [
    {
     "data": {
      "text/html": [
       "<iframe src=\"https://www.encyclopediaofmath.org//index.php?title=Laplace_theorem&oldid=39017\" width=\"850\" height=\"650\"></iframe>"
      ],
      "text/plain": [
       "<IPython.core.display.HTML object>"
      ]
     },
     "execution_count": 7,
     "metadata": {},
     "output_type": "execute_result"
    }
   ],
   "source": [
    "HTML('<iframe src=\"https://www.encyclopediaofmath.org//index.php?title=Laplace_theorem&oldid=39017\" width=\"850\" height=\"650\"></iframe>')"
   ]
  },
  {
   "cell_type": "markdown",
   "metadata": {},
   "source": [
    "<div class=\"exercises\">\n",
    "Laplace’s theorem on the approximation of the binomial distribution by the normal distribution. This is the first version of the Central Limit Theorem of probability theory: If $ S_{n} $ denotes the number of “successes” in $ n $ Bernoulli trials with probability of success $ p $ ($ 0 < p < 1 $), then for any two real numbers $ a $ and $ b $ satisfying $ a < b $, one has\n",
    "$$\n",
    "\\lim_{n \\to \\infty} \\mathsf{P} \\! \\left( a < \\frac{S_{n} - n p}{\\sqrt{n p (1 - p)}} < b \\right) = \\Phi(b) - \\Phi(a),\n",
    "$$\n",
    "where $ \\Phi: \\mathbb{R} \\to (0,1) $ defined by\n",
    "$$\n",
    "\\forall x \\in \\mathbb{R}: \\qquad\n",
    "\\Phi(x) \\stackrel{\\text{df}}{=} \\frac{1}{\\sqrt{2 \\pi}} \\int_{- \\infty}^{x} e^{- y^{2} / 2} ~ \\mathrm{d}{y}\n",
    "$$\n",
    "is the cumulative distribution function of the standard normal law.\n",
    "\n",
    "The local Laplace Theorem has independent significance: For the probability value\n",
    "$$\n",
    "\\mathsf{P}(S_{n} = m) = \\binom{n}{m} p^{m} (1 - p)^{n - m}, \\qquad \\text{where} ~ m \\in \\mathbb{Z} \\cap [0,n],\n",
    "$$\n",
    "one has\n",
    "$$\n",
    "\\mathsf{P}(S_{n} = m) = \\frac{1}{\\sqrt{n p (1 - p)}} (1 + \\epsilon_{n}) \\phi(x),\n",
    "$$\n",
    "where $ \\phi: \\mathbb{R} \\to \\mathbb{R}_{> 0} $ defined by\n",
    "$$\n",
    "\\forall x \\in \\mathbb{R}: \\qquad\n",
    "\\phi(x) \\stackrel{\\text{df}}{=} \\frac{1}{\\sqrt{2 \\pi}} e^{- x^{2} / 2}\n",
    "$$\n",
    "is the density of the standard normal distribution, and $ \\epsilon_{n} \\to 0 $ as $ n \\to \\infty $ uniformly for all $ m $ for which $ x = \\dfrac{m - n p}{\\sqrt{n p (1 - p)}} $ lies in some finite interval.\n",
    "\n",
    "In its general form, the theorem was proved by P. S. Laplace. The special case $ p = 0.5 $ of the Laplace Theorem was studied by A. de Moivre. Therefore, the Laplace Theorem is sometimes called the “de Moivre–Laplace Theorem”.\n",
    "\n",
    "For practical applications, the Laplace Theorem is important in order to obtain an idea of the errors that arise in the use of approximation formulas. In the more precise (by comparison with Laplace's) asymptotic formula\n",
    "$$\n",
    "\\forall y \\in \\mathbb{R}: \\qquad\n",
    "\\mathsf{P}(S_{n} < y) = \\Phi \\! \\left( \\frac{y - n p + 0.5}{\\sqrt{n p (1 - p)}} \\right) + {R_{n}}(y),\n",
    "$$\n",
    "the remainder term $ {R_{n}}(y) $ has order $ \\mathcal{O} \\! \\left( \\dfrac{1}{\\sqrt{n}} \\right) $ uniformly for all real numbers $ y $. For the uniform approximation of the binomial distribution by means of the normal distribution, the following formula of Ya. Uspenskii (1937) is more useful: If $ \\sigma = \\sqrt{n p (1 - p)} $, then for any two real numbers $ a $ and $ b $ satisfying $ a < b $, one has\n",
    "$$\n",
    "\\mathsf{P}(a < S_{n} < b) =\n",
    "\\Phi \\! \\left( \\frac{b - n p + 0.5}{\\sigma} \\right) -\n",
    "\\Phi \\! \\left( \\frac{a - n p - 0.5}{\\sigma} \\right) +\n",
    "\\psi \\! \\left( \\frac{b - n p + 0.5}{\\sigma} \\right) -\n",
    "\\psi \\! \\left( \\frac{a - n p - 0.5}{\\sigma} \\right) +\n",
    "\\Delta,\n",
    "$$\n",
    "where $ \\psi: \\mathbb{R} \\to \\mathbb{R} $ is defined by\n",
    "$$\n",
    "\\forall x \\in \\mathbb{R}: \\qquad\n",
    "\\psi(x) \\stackrel{\\text{df}}{=} \\frac{1 - 2 p}{6 \\sigma} (1 - x^{2}) \\phi(x),\n",
    "$$\n",
    "and for $ \\sigma \\geq 5 $,\n",
    "$$\n",
    "|\\Delta| < \\frac{(0.13 + 0.18 |1 - 2 p|)}{\\sigma^{2}} + \\frac{1}{e^{3 \\sigma / 2}}.\n",
    "$$\n",
    "\n",
    "To improve the relative accuracy of the approximation, S. N. Bernstein (1943) and W. Feller (1945) suggested other formulas.\n",
    "\n",
    "\n",
    "====References====\n",
    "\n",
    "P. S. Laplace, “Théorie analytique des probabilités”, Paris (1812). \n",
    "\n",
    "A. de Moivre, “Miscellanea analytica de seriebus et quadraturis”, London (1730).\n",
    "\n",
    "Yu. V. Prohorov, Yu. A. Rozanov, “Probability theory, basic concepts. Limit theorems, random processes”, Springer (1969). (Translated from Russian) \n",
    "\n",
    "W. Feller, “On the normal approximation to the binomial distribution”, ''Ann. Math. Statist.'', '''16''' (1945), pp. 319–329. \n",
    "\n",
    "W. Feller, “An introduction to probability theory and its applications”, '''1''', Wiley (1968).\n",
    "\n",
    "====Comments====\n",
    "\n",
    "For a more detailed and more general discussion of approximation by the normal distribution, see Petrov.\n",
    "\n",
    "====References====\n",
    "\n",
    "V. V. Petrov, “Sums of independent random variables”, Springer (1975). (Translated from Russian) \n",
    "</div>"
   ]
  },
  {
   "cell_type": "code",
   "execution_count": null,
   "metadata": {
    "collapsed": true
   },
   "outputs": [],
   "source": []
  },
  {
   "cell_type": "code",
   "execution_count": null,
   "metadata": {
    "collapsed": true
   },
   "outputs": [],
   "source": []
  },
  {
   "cell_type": "markdown",
   "metadata": {
    "collapsed": true
   },
   "source": [
    "<div class=\"exercises\">\n",
    "<p>Csebisov egyenlőtlenség</p>\n",
    "$$\n",
    "\\begin{align*}\n",
    "P\\left(\\left|X-E(X)\\right|\\geq t\\cdot D(X) \\right) &\\leq\\frac{1}{t^2},\\\\\n",
    "P\\left(\\left|X-E(X)\\right|< t\\cdot D(X) \\right) &\\geq1-\\frac{1}{t^2}.\n",
    "\\end{align*}\n",
    "$$\n",
    "</div>"
   ]
  },
  {
   "cell_type": "markdown",
   "metadata": {},
   "source": [
    "<div class=\"exercises\">\n",
    "<p>Nagy számok törvénye</p>\n",
    "$$\n",
    "\\begin{align*}\n",
    "P\\left(\\left| \\frac{X}{n}-p \\right|<\\varepsilon \\right) &\\geq 1-\\frac{p(1-p)}{n\\varepsilon^2}\\geq \n",
    "1-\\frac{1}{4n\\varepsilon^2},\\\\\n",
    "P\\left(\\left| \\frac{X}{n}-p \\right|>\\varepsilon \\right) &< \\frac{p(1-p)}{n\\varepsilon^2}\\leq\\frac{1}{4n\\varepsilon^2}.\n",
    "\\end{align*}\n",
    "$$\n",
    "</div>"
   ]
  },
  {
   "cell_type": "markdown",
   "metadata": {},
   "source": [
    "###  Megoldások"
   ]
  },
  {
   "cell_type": "markdown",
   "metadata": {},
   "source": [
    "<div class=\"solution\">\n",
    "<ol>\n",
    "    <li>\n",
    "     A négyes dobás valószínűsége $p=1/6$, $\\varepsilon=0.1$, $n\\geq ?$\n",
    "     $$\n",
    "     P\\left(\\left| \\frac{X}{n}-\\frac{1}{6} \\right|<\\varepsilon \\right)\\geq 1-\\frac{\\frac{1}{6}\\left(1-\\frac{1}{6}\\right)}{n\\cdot 0.1^2}\n",
    "     $$\n",
    "     Azt szeretnénk, hogy \n",
    "     $$\n",
    "     1-\\frac{\\frac{1}{6}\\left(1-\\frac{1}{6}\\right)}{n\\cdot 0.1^2}\\geq 0.80.\n",
    "     $$\n",
    "     Ebből $n\\geq 70$.\n",
    "    </li>\n",
    "    <li>\n",
    "    $\\varepsilon=0.05$, $1-\\dfrac{1}{4n\\cdot 0.05^2}\\geq 0.90$. Ebből $n\\geq 1000$.\n",
    "    </li>\n",
    "    <li>\n",
    "    $1-\\frac{p(1-p)}{n\\cdot 0.05^2}\\geq 0.90$. Ebből $n\\geq 400p(1-p)$.\n",
    "    </li>\n",
    "    <li>\n",
    "    $n=16000$, $\\varepsilon=0.05$.\n",
    "    </li>\n",
    "    <li>\n",
    "    $n=16000$.\n",
    "    $$\n",
    "    P\\left(\\left| \\frac{X}{n}-p \\right|<\\varepsilon \\right)\\geq 1-\\frac{1}{4n\\varepsilon^2},\n",
    "    $$\n",
    "    $$\n",
    "    1-\\frac{1}{4n\\varepsilon^2}\\geq 0.90.\n",
    "    $$\n",
    "    Ebből $\\varepsilon\\geq 0.0125$.\n",
    "    </li>\n",
    "    <li>\n",
    "        <ol type=\"a\">\n",
    "        <li>A Csebisov egyenlőtlenséget használjuk.\n",
    "        $$\n",
    "        P\\left(\\left|X-E(X)\\right|< t\\cdot D(X) \\right) \\geq 1-\\frac{1}{t^2}.\n",
    "        $$\n",
    "        Nyilván\n",
    "        $$\n",
    "        P(8\\lt X\\lt 15)=P(-4\\lt X-12\\lt 3)\\gt P(-3\\lt X-12\\lt 3)=P\\left(\\left|X-E(X)\\right|\\lt 3 \\right).\n",
    "        $$\n",
    "        Ezért $3=t\\cdot D(X)=2t$. Ebből $t=3/2$. Tehát \n",
    "        $$\n",
    "        P(8\\lt X\\lt 15)\\geq 1-\\frac{1}{(3/2)^2}=\\frac{5}{9}=0.5555556.\n",
    "        $$\n",
    "        </li>\n",
    "        <li>\n",
    "        Mivel $E(X)=np=12$, $D(X)=np(1-p)=4$, ezért $p=2/3$, $n=18$.\n",
    "        $$\n",
    "        P(8\\lt X\\lt 15)=\\sum_{k=9}^{14}\\binom{n}{k}p^k(1-p)^{18-k}= .\n",
    "        $$\n",
    "        </li>\n",
    "        </ol>\n",
    "    </li>\n",
    "    <li>\n",
    "    $E(X)=182$, $D(X)=2.1$.\n",
    "    A Csebisov egyenlőtlenséget használjuk.\n",
    "    $$\n",
    "    P\\left(\\left|X-E(X)\\right|\\geq t\\cdot D(X) \\right) \\leq\\frac{1}{t^2}.\n",
    "    $$\n",
    "    Ebből $t\\cdot D(X)=2.1t\\geq 4$. Tehát $t\\geq 4/2.1$. Ezért\n",
    "    $$\n",
    "    P(X\\notin(178, 186))=P\\left(\\left|X-E(X)\\right|\\geq 4 \\right) \\leq\\left(\\frac{2.1}{4}\\right)^2=0.275625.\n",
    "    $$\n",
    "    </li>\n",
    "    <li>\n",
    "        <ol type=\"a\">\n",
    "            <li>Binomiális eloszlás, $n=200$, $p=0.4$. Ekkor a várható érték $np=80$, a szórás \n",
    "            $D(X)=\\sqrt{np(1-p)}=6.92820323$.\n",
    "            A Csebisov egyenlőtlenséget használjuk.\n",
    "            $$\n",
    "            P\\left(\\left|X-E(X)\\right|\\lt t\\cdot D(X) \\right) \\geq1-\\frac{1}{t^2}.\n",
    "            $$\n",
    "            Azt akarjuk, hogy $1-\\dfrac{1}{t^2}= 0.90$ legyen. Ebből $t=\\sqrt{10}=3.16227766$.\n",
    "            Ezért $t\\cdot D(X)=21.9089023$. Tehát\n",
    "            $$\n",
    "            P(80-21.9089023 \\lt X\\lt 80+21.9089023)=P(59\\lt X\\lt 102)\\geq 0.90.\n",
    "            $$\n",
    "            </li>\n",
    "            <li>A nagy számok törvénye alapján\n",
    "            $$\n",
    "            P\\left(\\left| \\frac{X}{n}-p \\right|\\lt \\varepsilon \\right) \\geq 1-\\frac{p(1-p)}{n\\varepsilon^2}.\n",
    "            $$\n",
    "            Azt akarjuk, hogy $1-\\frac{p(1-p)}{n\\varepsilon^2}= 0.90$ legyen. Ebből $\\varepsilon=0.1095445$.\n",
    "            Behelyettesítve az egyenlőtlenségbe azt kapjuk, hogy\n",
    "            $$\n",
    "            P\\left(\\left| X-80 \\right|\\lt 21.9089 \\right) \\geq 1-\\frac{p(1-p)}{n\\varepsilon^2}= 0.90.\n",
    "            $$\n",
    "            Ugyanazt kapjuk, mint a Csebisov egyenlőtlenséggel.\n",
    "            </li>\n",
    "            <li>\n",
    "            \n",
    "            </li>\n",
    "        </ol>\n",
    "    </li>\n",
    "    <li>\n",
    "        <ol>Binomiális eloszlás, $n=150$, $p=0.40$.\n",
    "            <li>\n",
    "            $E(X)=150\\cdot 40=60$, $D(X)=6$.\n",
    "            </li>\n",
    "            <li>Binomiális eloszlás.\n",
    "            $$\n",
    "            P(X=k)=\\binom{150}{k}0.40^k(1-0.4)^{150-k}.\n",
    "            $$\n",
    "            A várható érték 5%-a 3.\n",
    "            $$\n",
    "            \\sum_{k=0}^{56}\\binom{150}{k}0.40^k(1-0.4)^{150-k}+\\sum_{k=64}^{150}\\binom{150}{k}0.40^k(1-0.4)^{150-k}.\n",
    "            $$\n",
    "            A komplementer esemény valószínűségét könnyebb kiszámolni.\n",
    "            $$\n",
    "            \\sum_{k=57}^{63}\\binom{150}{k}0.40^k0.6^{150-k}.\n",
    "            $$\n",
    "            Uspenski tételét használjuk.\n",
    "            $$\n",
    "            \\begin{align*}\n",
    "            \\mathsf{P}(a < S_{n} < b) &=\n",
    "            \\Phi \\! \\left( \\frac{b - n p + 0.5}{\\sigma} \\right) -\n",
    "            \\Phi \\! \\left( \\frac{a - n p - 0.5}{\\sigma} \\right) \\\\\n",
    "            &+\\psi \\! \\left( \\frac{b - n p + 0.5}{\\sigma} \\right) -\n",
    "            \\psi \\! \\left( \\frac{a - n p - 0.5}{\\sigma} \\right) +\n",
    "            \\Delta,\n",
    "            \\end{align*}\n",
    "            $$\n",
    "            ahol\n",
    "            $$\n",
    "            \\psi(x) = \\frac{1 - 2 p}{6 \\sigma} (1 - x^{2}) \\phi(x),\n",
    "            $$\n",
    "            és $\\sigma \\geq 5$ esetén\n",
    "            $$\n",
    "            |\\Delta| \\lt \\frac{(0.13 + 0.18 |1 - 2 p|)}{\\sigma^{2}} + \\frac{1}{e^{3 \\sigma / 2}}.\n",
    "            $$\n",
    "            Esetünkben $d$\n",
    "            </li>\n",
    "            <li>\n",
    "            <p>A Csebisov egyenlőtlenség alapján</p>\n",
    "            $$\n",
    "            P\\left(\\left|X-E(X)\\right|\\geq t\\cdot D(X) \\right) \\leq\\frac{1}{t^2}.\n",
    "            $$\n",
    "            Itt $D(X)=\\sqrt{np(1-p)}=\\sqrt{150\\cdot0.40\\cdot0.60}=6.0$. Szeretnénk, hogy \n",
    "            $t\\cdot D(X)\\geq 0.05\\cdot E(X)$ legyen. Ebből $t\\geq 0.5$. Tehát\n",
    "            $$\n",
    "            P\\left(\\left|X-60\\right|\\geq 0.05\\cdot E(X) \\right) \\leq\\frac{1}{t^2}.\n",
    "            $$\n",
    "            </li>\n",
    "        </ol>\n",
    "    </li>\n",
    "    <li>\n",
    "    \n",
    "    </li>\n",
    "    <li>\n",
    "    \n",
    "    </li>\n",
    "</ol>\n",
    "</div>"
   ]
  },
  {
   "cell_type": "code",
   "execution_count": 23,
   "metadata": {},
   "outputs": [
    {
     "data": {
      "image/png": "[encoded data removed]",
      "text/latex": [
       "$$0.5$$"
      ],
      "text/plain": [
       "0.5"
      ]
     },
     "execution_count": 23,
     "metadata": {},
     "output_type": "execute_result"
    }
   ],
   "source": [
    "0.05*60/6"
   ]
  },
  {
   "cell_type": "markdown",
   "metadata": {
    "collapsed": true
   },
   "source": [
    "# 7.hét"
   ]
  },
  {
   "cell_type": "code",
   "execution_count": 10,
   "metadata": {},
   "outputs": [
    {
     "data": {
      "text/html": [
       "<iframe src=\"https://drive.google.com/file/d/0B_s1BCdqI_GRTFV4TTJQSm1Uelk/preview\" width=\"850\" height=\"450\"></iframe>"
      ],
      "text/plain": [
       "<IPython.core.display.HTML object>"
      ]
     },
     "execution_count": 10,
     "metadata": {},
     "output_type": "execute_result"
    }
   ],
   "source": [
    "HTML('<iframe src=\"https://drive.google.com/file/d/0B_s1BCdqI_GRTFV4TTJQSm1Uelk/preview\" width=\"850\" height=\"450\"></iframe>')"
   ]
  },
  {
   "cell_type": "code",
   "execution_count": null,
   "metadata": {
    "collapsed": true
   },
   "outputs": [],
   "source": []
  },
  {
   "cell_type": "code",
   "execution_count": null,
   "metadata": {
    "collapsed": true
   },
   "outputs": [],
   "source": []
  },
  {
   "cell_type": "code",
   "execution_count": 1,
   "metadata": {},
   "outputs": [
    {
     "data": {
      "text/html": [
       "<style>\n",
       "div.exercises {\n",
       "    text-align: left; \n",
       "    font-family: 'Times New Roman'; \n",
       "    font-size:1.5em; \n",
       "    font-style:bold;\n",
       "    border: 1px solid red;\n",
       "    padding: 7px 3px 7px 8px;\n",
       "    background-color: whitesmoke;\n",
       "}\n",
       "\n",
       "div.solution {\n",
       "    font-size: 125%;\n",
       "    background-color: cornsilk;\n",
       "    border: 1px solid forestgreen;\n",
       "    font-style:bold;\n",
       "}\n",
       "\n",
       "ol {    \n",
       "    padding: 15px;\n",
       "}\n",
       "\n",
       "ol li {\n",
       "    padding: 5px;\n",
       "    margin-left: 5px;\n",
       "}\n",
       "\n",
       "ol ol li { \n",
       "    list-style-type: lower-alpha;\n",
       "}\n",
       "\n",
       "li {\n",
       "    line-height: 25px;\n",
       "}\n",
       "\n",
       ".tg  {border-collapse:collapse;border-spacing:0;border-color:#aaa;}\n",
       ".tg td{font-family:Arial, sans-serif;font-size:14px;padding:12px 20px;border-style:solid;border-width:1px;overflow:hidden;word-break:normal;border-color:#aaa;color:#333;background-color:#fff;}\n",
       ".tg th{font-family:Arial, sans-serif;font-size:14px;font-weight:normal;padding:12px 20px;border-style:solid;border-width:1px;overflow:hidden;word-break:normal;border-color:#aaa;color:#fff;background-color:#f38630;}\n",
       ".tg .tg-mvqg{background-color:#FCFBE3;font-family:Arial, Helvetica, sans-serif !important;}\n",
       ".tg .tg-z2zr{background-color:#FCFBE3}\n",
       "@media screen and (max-width: 767px) {.tg {width: auto !important;}.tg col {width: auto !important;}.tg-wrap {overflow-x: auto;-webkit-overflow-scrolling: touch;}}\n",
       "\n",
       "<style>"
      ],
      "text/plain": [
       "<IPython.core.display.HTML object>"
      ]
     },
     "metadata": {},
     "output_type": "display_data"
    }
   ],
   "source": [
    "%%html\n",
    "<style>\n",
    "div.exercises {\n",
    "    text-align: left; \n",
    "    font-family: 'Times New Roman'; \n",
    "    font-size:1.5em; \n",
    "    font-style:bold;\n",
    "    border: 1px solid red;\n",
    "    padding: 7px 3px 7px 8px;\n",
    "    background-color: whitesmoke;\n",
    "}\n",
    "\n",
    "div.solution {\n",
    "    font-size: 125%;\n",
    "    background-color: cornsilk;\n",
    "    border: 1px solid forestgreen;\n",
    "    font-style:bold;\n",
    "}\n",
    "\n",
    "ol {    \n",
    "    padding: 15px;\n",
    "}\n",
    "\n",
    "ol li {\n",
    "    padding: 5px;\n",
    "    margin-left: 5px;\n",
    "}\n",
    "\n",
    "ol ol li { \n",
    "    list-style-type: lower-alpha;\n",
    "}\n",
    "\n",
    "li {\n",
    "    line-height: 25px;\n",
    "}\n",
    "\n",
    ".tg  {border-collapse:collapse;border-spacing:0;border-color:#aaa;}\n",
    ".tg td{font-family:Arial, sans-serif;font-size:14px;padding:12px 20px;border-style:solid;border-width:1px;overflow:hidden;word-break:normal;border-color:#aaa;color:#333;background-color:#fff;}\n",
    ".tg th{font-family:Arial, sans-serif;font-size:14px;font-weight:normal;padding:12px 20px;border-style:solid;border-width:1px;overflow:hidden;word-break:normal;border-color:#aaa;color:#fff;background-color:#f38630;}\n",
    ".tg .tg-mvqg{background-color:#FCFBE3;font-family:Arial, Helvetica, sans-serif !important;}\n",
    ".tg .tg-z2zr{background-color:#FCFBE3}\n",
    "@media screen and (max-width: 767px) {.tg {width: auto !important;}.tg col {width: auto !important;}.tg-wrap {overflow-x: auto;-webkit-overflow-scrolling: touch;}}\n",
    "\n",
    "<style>"
   ]
  },
  {
   "cell_type": "code",
   "execution_count": null,
   "metadata": {
    "collapsed": true
   },
   "outputs": [],
   "source": [
    "%%html\n",
    "<script src=\"https://cdn.rawgit.com/parente/4c3e6936d0d7a46fd071/raw/65b816fb9bdd3c28b4ddf3af602bfd6015486383/code_toggle.js\"></script>"
   ]
  }
 ],
 "metadata": {
  "hide_input": false,
  "kernelspec": {
   "display_name": "Python 3",
   "language": "python",
   "name": "python3"
  },
  "language_info": {
   "codemirror_mode": {
    "name": "ipython",
    "version": 3
   },
   "file_extension": ".py",
   "mimetype": "text/x-python",
   "name": "python",
   "nbconvert_exporter": "python",
   "pygments_lexer": "ipython3",
   "version": "3.6.1"
  },
  "latex_envs": {
   "LaTeX_envs_menu_present": true,
   "autocomplete": true,
   "bibliofile": "biblio.bib",
   "cite_by": "apalike",
   "current_citInitial": 1,
   "eqLabelWithNumbers": true,
   "eqNumInitial": 1,
   "hotkeys": {
    "equation": "Ctrl-E",
    "itemize": "Ctrl-I"
   },
   "labels_anchors": true,
   "latex_user_defs": true,
   "report_style_numbering": true,
   "user_envs_cfg": false
  },
  "toc": {
   "nav_menu": {
    "height": "85px",
    "width": "252px"
   },
   "number_sections": true,
   "sideBar": true,
   "skip_h1_title": false,
   "toc_cell": true,
   "toc_position": {
    "height": "746px",
    "left": "0px",
    "right": "20px",
    "top": "106px",
    "width": "185px"
   },
   "toc_section_display": "block",
   "toc_window_display": false
  }
 },
 "nbformat": 4,
 "nbformat_minor": 2
}
