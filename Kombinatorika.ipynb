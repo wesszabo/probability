{
  "nbformat": 4,
  "nbformat_minor": 0,
  "metadata": {
    "colab": {
      "name": "Kombinatorika.ipynb",
      "version": "0.3.2",
      "provenance": [],
      "include_colab_link": true
    },
    "kernelspec": {
      "display_name": "Python 3",
      "language": "python",
      "name": "python3"
    }
  },
  "cells": [
    {
      "cell_type": "markdown",
      "metadata": {
        "id": "view-in-github",
        "colab_type": "text"
      },
      "source": [
        "[View in Colaboratory](https://colab.research.google.com/github/wesszabo/probability/blob/Gyakorlat/Kombinatorika.ipynb)"
      ]
    },
    {
      "metadata": {
        "id": "R3g5zItzbMeS",
        "colab_type": "toc"
      },
      "cell_type": "markdown",
      "source": [
        ">[UTF-8 encoding](#scrollTo=6EEYXCrzegH7)\n",
        "\n",
        ">[Import needed modules](#scrollTo=hSwsb42jFA9O)\n",
        "\n",
        ">[Versions](#scrollTo=LSFQ9iqfFRFn)\n",
        "\n",
        ">[1.hét Kombinatorika](#scrollTo=lDJ2-SLoTob6)\n",
        "\n",
        ">[Permutációk](#scrollTo=03mpSbtudyvF)\n",
        "\n",
        ">>[Feladatok](#scrollTo=DtZ48rFwXPc7)\n",
        "\n",
        ">>[Megoldások](#scrollTo=4kw_kmEsfGHB)\n",
        "\n",
        ">[Variációk](#scrollTo=PPj-Re-KTob9)\n",
        "\n",
        ">>[Feladatok](#scrollTo=sYUxbXWhfhnf)\n",
        "\n",
        ">>[Megoldások](#scrollTo=-mDjWIaeflDQ)\n",
        "\n",
        ">[Kombinációk](#scrollTo=vSEAoqqjTocB)\n",
        "\n",
        ">>[Feladatok](#scrollTo=9cXLESaxfqMQ)\n",
        "\n",
        ">>[Megoldások](#scrollTo=J9x9UTuxftmo)\n",
        "\n",
        ">[Vegyes feladatok](#scrollTo=IeCQ6UVsTocE)\n",
        "\n",
        ">>[Feladatok](#scrollTo=x4gT9pKOgend)\n",
        "\n",
        ">>[Megoldások](#scrollTo=qVRitS7EgjzD)\n",
        "\n"
      ]
    },
    {
      "metadata": {
        "id": "6EEYXCrzegH7",
        "colab_type": "text"
      },
      "cell_type": "markdown",
      "source": [
        "# UTF-8 encoding"
      ]
    },
    {
      "metadata": {
        "id": "kJ5-fAePedh2",
        "colab_type": "code",
        "colab": {}
      },
      "cell_type": "code",
      "source": [
        "# -*- coding: UTF-8 -*-"
      ],
      "execution_count": 0,
      "outputs": []
    },
    {
      "metadata": {
        "id": "hSwsb42jFA9O",
        "colab_type": "text"
      },
      "cell_type": "markdown",
      "source": [
        "# Import needed modules"
      ]
    },
    {
      "metadata": {
        "id": "DekfNsNmFYpJ",
        "colab_type": "code",
        "colab": {}
      },
      "cell_type": "code",
      "source": [
        "import numpy as np\n"
      ],
      "execution_count": 0,
      "outputs": []
    },
    {
      "metadata": {
        "id": "LSFQ9iqfFRFn",
        "colab_type": "text"
      },
      "cell_type": "markdown",
      "source": [
        "# Versions"
      ]
    },
    {
      "metadata": {
        "id": "YmQf6K6zbwbD",
        "colab_type": "code",
        "outputId": "b8890b76-0df8-43ab-8abe-66ed56ebb801",
        "colab": {
          "base_uri": "https://localhost:8080/",
          "height": 173
        }
      },
      "cell_type": "code",
      "source": [
        "!pip install --upgrade version_information"
      ],
      "execution_count": 3,
      "outputs": [
        {
          "output_type": "stream",
          "text": [
            "Collecting version_information\n",
            "  Downloading https://files.pythonhosted.org/packages/ff/b0/6088e15b9ac43a08ccd300d68e0b900a20cf62077596c11ad11dd8cc9e4b/version_information-1.0.3.tar.gz\n",
            "Building wheels for collected packages: version-information\n",
            "  Running setup.py bdist_wheel for version-information ... \u001b[?25l-\b \bdone\n",
            "\u001b[?25h  Stored in directory: /root/.cache/pip/wheels/1f/4c/b3/1976ac11dbd802723b564de1acaa453a72c36c95827e576321\n",
            "Successfully built version-information\n",
            "Installing collected packages: version-information\n",
            "Successfully installed version-information-1.0.3\n"
          ],
          "name": "stdout"
        }
      ]
    },
    {
      "metadata": {
        "id": "qpM4QEn8b_LH",
        "colab_type": "code",
        "outputId": "bbad9cdc-2645-4461-def0-375810f03762",
        "colab": {
          "base_uri": "https://localhost:8080/",
          "height": 166
        }
      },
      "cell_type": "code",
      "source": [
        "%load_ext version_information\n",
        "\n",
        "%version_information numpy, version_information"
      ],
      "execution_count": 4,
      "outputs": [
        {
          "output_type": "execute_result",
          "data": {
            "text/latex": "\\begin{tabular}{|l|l|}\\hline\n{\\bf Software} & {\\bf Version} \\\\ \\hline\\hline\nPython & 3.6.6 64bit [GCC 8.0.1 20180414 (experimental) [trunk revision 259383] \\\\ \\hline\nIPython & 5.5.0 \\\\ \\hline\nOS & Linux 4.14.65+ x86\\_64 with Ubuntu 18.04 bionic \\\\ \\hline\nnumpy & 1.14.6 \\\\ \\hline\nversion_information & 1.0.3 \\\\ \\hline\n\\hline \\multicolumn{2}{|l|}{Thu Oct 25 13:03:47 2018 UTC} \\\\ \\hline\n\\end{tabular}\n",
            "application/json": {
              "Software versions": [
                {
                  "version": "3.6.6 64bit [GCC 8.0.1 20180414 (experimental) [trunk revision 259383]",
                  "module": "Python"
                },
                {
                  "version": "5.5.0",
                  "module": "IPython"
                },
                {
                  "version": "Linux 4.14.65+ x86_64 with Ubuntu 18.04 bionic",
                  "module": "OS"
                },
                {
                  "version": "1.14.6",
                  "module": "numpy"
                },
                {
                  "version": "1.0.3",
                  "module": "version_information"
                }
              ]
            },
            "text/html": [
              "<table><tr><th>Software</th><th>Version</th></tr><tr><td>Python</td><td>3.6.6 64bit [GCC 8.0.1 20180414 (experimental) [trunk revision 259383]</td></tr><tr><td>IPython</td><td>5.5.0</td></tr><tr><td>OS</td><td>Linux 4.14.65+ x86_64 with Ubuntu 18.04 bionic</td></tr><tr><td>numpy</td><td>1.14.6</td></tr><tr><td>version_information</td><td>1.0.3</td></tr><tr><td colspan='2'>Thu Oct 25 13:03:47 2018 UTC</td></tr></table>"
            ],
            "text/plain": [
              "Software versions\n",
              "Python 3.6.6 64bit [GCC 8.0.1 20180414 (experimental) [trunk revision 259383]\n",
              "IPython 5.5.0\n",
              "OS Linux 4.14.65+ x86_64 with Ubuntu 18.04 bionic\n",
              "numpy 1.14.6\n",
              "version_information 1.0.3\n",
              "Thu Oct 25 13:03:47 2018 UTC"
            ]
          },
          "metadata": {
            "tags": []
          },
          "execution_count": 4
        }
      ]
    },
    {
      "metadata": {
        "id": "lDJ2-SLoTob6",
        "colab_type": "text"
      },
      "cell_type": "markdown",
      "source": [
        "#   1.hét Kombinatorika"
      ]
    },
    {
      "metadata": {
        "colab_type": "text",
        "id": "03mpSbtudyvF"
      },
      "cell_type": "markdown",
      "source": [
        "# Permutációk"
      ]
    },
    {
      "metadata": {
        "id": "DtZ48rFwXPc7",
        "colab_type": "text"
      },
      "cell_type": "markdown",
      "source": [
        "## Feladatok"
      ]
    },
    {
      "metadata": {
        "id": "zUVghxsnTob8",
        "colab_type": "text"
      },
      "cell_type": "markdown",
      "source": [
        "<div class=\"exercises\">\n",
        "<ol>\n",
        "  <li>Egy összejövetelen 5 fiú és 5 lány vesz részt. A táncoló pároknak hányféle összetétele lehetséges, ha mindenki táncol és a lányok egymással, illetve a fiúk egymással nem táncolnak?</li>\n",
        "  <li>Néhány, különböző színű golyót 720 féleképpen rakhatunk sorba. Hány golyónk van?</li>\n",
        "  <li>Adott két 6 elemű halmaz (A, B). Hány olyan függvény van, amely az A halmaz elemeihez a B halmaz elemeit kölcsönösen egyértelmű módon rendeli hozzá?</li>\n",
        "  <li>Hány különböző szám írható fel az alábbi számjegyekből? (Minden számjegyet fel kell használni.)\n",
        "  <ol>\n",
        "      <li>1,1,2,2,3,4</li>\n",
        "      <li>4,4,4,4,5,5,5</li>\n",
        "  </ol>\n",
        "  </li>\n",
        "  <li>Egy dobozban 16 golyó van; 10 fehér, 4 piros és 2 kék színű. Hányféleképpen húzhatjuk ki a 16 golyót, ha az azonos színűeket nem különböztetjük meg?</li>\n",
        "  <li>Adott két halmaz A={1, 2, 3, 4, 5, 6} és B={a, b, c}. Hány olyan A-t B-re képező függvény van, amely minden B-beli értéket kétszer vesz fel értékül?</li>\n",
        "</ol>\n",
        "</div>"
      ]
    },
    {
      "metadata": {
        "id": "4kw_kmEsfGHB",
        "colab_type": "text"
      },
      "cell_type": "markdown",
      "source": [
        "##Megoldások"
      ]
    },
    {
      "metadata": {
        "id": "LR846gohTob8",
        "colab_type": "text"
      },
      "cell_type": "markdown",
      "source": [
        "<div class=\"solution\">\n",
        "<ol>\n",
        "  <li>$5!=120.$</li>\n",
        "  <li>$n!=720\\quad\\Longrightarrow\\quad n=6.$</li>\n",
        "  <li>$6!=720.$</li>\n",
        "  <li>\n",
        "  <ol>\n",
        "      <li>$\\frac{6!}{2!2!}=180.$</li>\n",
        "      <li>$\\frac{7!}{4!3!}=35.$</li>\n",
        "  </ol>\n",
        "  </li>\n",
        "  <li>$\\frac{16!}{10!4!2!}=120120.$</li>\n",
        "  <li>$\\frac{6!}{2!2!2!}= 90.$</li>\n",
        "</ol>\n",
        "</div>"
      ]
    },
    {
      "metadata": {
        "id": "PPj-Re-KTob9",
        "colab_type": "text"
      },
      "cell_type": "markdown",
      "source": [
        "# Variációk"
      ]
    },
    {
      "metadata": {
        "id": "sYUxbXWhfhnf",
        "colab_type": "text"
      },
      "cell_type": "markdown",
      "source": [
        "##Feladatok"
      ]
    },
    {
      "metadata": {
        "id": "EXyNYRQ5Tob_",
        "colab_type": "text"
      },
      "cell_type": "markdown",
      "source": [
        "<div class=\"exercises\">\n",
        "<ol>\n",
        "  <li>Egy rejtvénypályázaton 5 különböző díjat sorsolnak ki a helyes megfejtést beküldők között. 78-an küldenek be helyes megfejtést. Hányféle eredményt hozhat a sorsolás?</li>\n",
        "  <li>Adott két halmaz A={1, 2, 3} és B={a, b, c, d, e, f}. Hány olyan függvény van, amely az A halmaz elemeihez a B halmaz elemeiből kölcsönösen egyértelműen rendel hozzá hármat?</li>\n",
        "  <li>Hányféleképpen lehet kitölteni egy totószelvényt?</li>\n",
        "  <li>Adott két halmaz A={1, 2, 3, 4, 5, 6} és B={a, b, c, d, e, f}. Hány olyan függvény van, amely az A halmaz elemeihez a B halmaz elemeit rendeli?</li>\n",
        "</ol>\n",
        "</div>"
      ]
    },
    {
      "metadata": {
        "id": "-mDjWIaeflDQ",
        "colab_type": "text"
      },
      "cell_type": "markdown",
      "source": [
        "##Megoldások"
      ]
    },
    {
      "metadata": {
        "id": "6rhCwm7zTocA",
        "colab_type": "text"
      },
      "cell_type": "markdown",
      "source": [
        "<div class=\"solution\">\n",
        "<ol>\n",
        "  <li>$78\\cdot 77\\cdot 76\\cdot 75\\cdot 74=2533330800.$</li>\n",
        "  <li>$6\\cdot 5\\cdot 4=120.$</li>\n",
        "  <li>$3^{13}=1594323.$</li>\n",
        "  <li>$6^6=46656.$</li>\n",
        "</ol>\n",
        "</div>"
      ]
    },
    {
      "metadata": {
        "id": "vSEAoqqjTocB",
        "colab_type": "text"
      },
      "cell_type": "markdown",
      "source": [
        "# Kombinációk"
      ]
    },
    {
      "metadata": {
        "id": "9cXLESaxfqMQ",
        "colab_type": "text"
      },
      "cell_type": "markdown",
      "source": [
        "##Feladatok"
      ]
    },
    {
      "metadata": {
        "id": "SC_iX9TjTocC",
        "colab_type": "text"
      },
      "cell_type": "markdown",
      "source": [
        "<div class=\"exercises\">\n",
        "<ol>\n",
        "  <li>Egy 6 tagú társaságban mindenki mindenkivel kezet fog. Összesen hány kézfogást jelent ez?</li>\n",
        "  <li>12 személy egyszerre érkezik egy 6 személyes lifthez. Hányféleképpen választhatjuk ki közülük az első 6 utast?</li>\n",
        "  <li>500 termék között 4% a selejtes. Hányféleképpen lehet 10 terméket kiválasztani úgy, hogy\n",
        "  <ol>\n",
        "      <li>egy selejtes se legyen,</li>\n",
        "      <li>mind a 10 selejtes legyen,</li>\n",
        "      <li>pontosan 5 selejtes legyen,</li>\n",
        "      <li>legfeljebb 3 selejtes legyen,</li>\n",
        "      <li>legyen köztük selejtes? (Visszatevés nélkül választunk és a sorrendet nem vesszük\n",
        "figyelembe)</li>\n",
        "  </ol>\n",
        "  </li>\n",
        "  <li>Hányféleképpen helyezhetünk el 5 levelet 16 levélszekrénybe, ha a levelek között nem teszünk különbséget és egy rekeszbe\n",
        "  <ol>\n",
        "      <li>legfeljebb egy levelet,</li>\n",
        "      <li>több levelet tehetünk?</li>\n",
        "  </ol>\n",
        "  </li>\n",
        "</ol>\n",
        "</div>"
      ]
    },
    {
      "metadata": {
        "id": "J9x9UTuxftmo",
        "colab_type": "text"
      },
      "cell_type": "markdown",
      "source": [
        "##Megoldások"
      ]
    },
    {
      "metadata": {
        "id": "w1EAcAqeTocD",
        "colab_type": "text"
      },
      "cell_type": "markdown",
      "source": [
        "<div class=\"solution\">\n",
        "<ol>\n",
        "  <li>$\\binom{6}{2}=15.$</li>\n",
        "  <li>$\\binom{12}{6}=924.$</li>\n",
        "  <li>20 selejtes.\n",
        "      <ol>\n",
        "          <li>$\\binom{500-20}{10}=162803202667438684560.$</li>\n",
        "          <li>$\\binom{20}{10}=184756.$</li>\n",
        "          <li>$\\binom{480}{5}\\binom{20}{5}=207945120096\\cdot 15504=3223981141968384.$</li>\n",
        "          <li>$\\binom{480}{10}+\\binom{480}{9}\\binom{20}{1}+\\binom{480}{8}\\binom{20}{2}+ \n",
        "               \\binom{480}{7}\\binom{20}{3}$\n",
        "               \n",
        "               $=245727518772758927560.$\n",
        "          </li>\n",
        "          <li>$\\binom{500}{10}-\\binom{480}{10}=83007386134452414140.$\n",
        "      </ol>\n",
        "  </li>\n",
        "  <li>\n",
        "      <ol>\n",
        "          <li>$\\binom{16}{5}=4368.$</li>\n",
        "          <li>$\\binom{16+5-1}{5}=15504.$</li>\n",
        "      </ol>\n",
        "  </li>\n",
        "</ol>\n",
        "</div>"
      ]
    },
    {
      "metadata": {
        "id": "IeCQ6UVsTocE",
        "colab_type": "text"
      },
      "cell_type": "markdown",
      "source": [
        "# Vegyes feladatok"
      ]
    },
    {
      "metadata": {
        "id": "x4gT9pKOgend",
        "colab_type": "text"
      },
      "cell_type": "markdown",
      "source": [
        "##Feladatok"
      ]
    },
    {
      "metadata": {
        "id": "1gWBAPz6TocF",
        "colab_type": "text"
      },
      "cell_type": "markdown",
      "source": [
        "<div class=\"exercises\">\n",
        "<ol>\n",
        "  <li>500 termék között 4% a selejtes. Hányféleképpen lehet 10 terméket kiválasztani úgy, hogy\n",
        "  <ol>\n",
        "      <li>egy selejtes se legyen,</li>\n",
        "      <li>mind a 10 selejtes legyen,</li>\n",
        "      <li>pontosan 5 selejtes legyen,</li>\n",
        "      <li>legfeljebb 3 selejtes legyen,</li>\n",
        "      <li>legyen köztük selejtes? (Visszatevéssel választunk és a sorrendet nem vesszük\n",
        "figyelembe)</li>\n",
        "  </ol>\n",
        "  </li>\n",
        "  <li>Hányféleképpen tölthetünk ki egy totószelvényt úgy, hogy 8 darab 1-es, 2 darab X és 4 darab 2-es tipp legyen?\n",
        "  </li>\n",
        "  <li>Hányféleképpen járhat körtáncot 5 pár, ha mindenki a saját párjának kezét fogja?</li>\n",
        "  <li>Tizenkét diák három csónakot bérel. Az egyik csónak 3 üléses, a másik 4, a harmadik pedig 5\n",
        "   üléses.\n",
        "  <ol>\n",
        "      <li>Hányféleképpen foglalhatnak helyet a csónakban?</li>\n",
        "      <li>Hányféleképpen foglalhatnak helyet, ha két diák feltétlenül egy csónakban akar helyet              foglalni?</li>\n",
        "  </ol>\n",
        "  </li>\n",
        "  <li>Egy kockával háromszor dobunk egymás után. Hány olyan dobássorozat fordul elő, amelyben a 6-os is szerepel?</li>\n",
        "  <li>Hány olyan 6 jegyű szám van,\n",
        "  <ol>\n",
        "      <li>amelynek minden jegye különböző,</li>\n",
        "      <li>amelynek bármely két szomszédos jegye különböző,</li>\n",
        "      <li>amelyben pontosan két darab 0 van,</li>\n",
        "      <li>amelyben van jegyismétlődés,</li>\n",
        "      <li>amelyben a jegyek szorzata 10-zel osztva 5-öt ad maradékul,</li>\n",
        "      <li>amelyben a jegyek összege 10-zel osztva 5-öt ad maradékul,</li>\n",
        "      <li>amelyben a jegyek összege páros?</li>\n",
        "  </ol>\n",
        "  </li>\n",
        "  <li>Az 1, 2,…, 9 számokat sorba rendezzük. Hány olyan sorrend van, amelyben az 1, 2, 3 számok\n",
        "  <ol>\n",
        "      <li>valamilyen sorrendben egymás mellé kerülnek,</li>\n",
        "      <li>amelynek bármely két szomszédos jegye különböző,</li>\n",
        "      <li>növekvő sorrendben kerülnek egymás mellé,</li>\n",
        "      <li>egymáshoz képest növekvő sorrendben helyezkednek el? (Nem feltétlenül egymás mellett.)</li>\n",
        "  </ol>\n",
        "  </li>\n",
        "  <li>Egy 28 tagú szakkollégiumban 4 jutalmat osztanak ki. Hányféleképpen történhet ez, ha\n",
        "  <ol>\n",
        "      <li>a jutalmak egyformák, és egy tag legfeljebb egy jutalmat kaphat,</li>\n",
        "      <li>a jutalmak egyformák és egy tag több jutalmat is kaphat,</li>\n",
        "      <li>a jutalmak különbözőek, és egy tag legfeljebb egy jutalmat kaphat,</li>\n",
        "      <li>a jutalmak különbözőek és egy tag több jutalmat is kaphat?</li>\n",
        "  </ol>\n",
        "  </li>\n",
        "</ol>\n",
        "</div>"
      ]
    },
    {
      "metadata": {
        "id": "qVRitS7EgjzD",
        "colab_type": "text"
      },
      "cell_type": "markdown",
      "source": [
        "##Megoldások"
      ]
    },
    {
      "metadata": {
        "id": "Z4U_jKrITocG",
        "colab_type": "text"
      },
      "cell_type": "markdown",
      "source": [
        "<ol>\n",
        "  <li>20 selejtes.\n",
        "      <ol>\n",
        "          <li>$\\binom{480+10-1}{10}=196380545341459420656.$</li>\n",
        "          <li>$\\binom{20+10-1}{10}=20030010.$</li>\n",
        "          <li>$\\binom{480+5-1}{5}\\binom{20+5-1}{5}=9214555734768384.$</li>\n",
        "          <li>$\\binom{480+10-1}{10}+\\binom{480+9-1}{9}\\binom{20}{1}$\n",
        "          \n",
        "              $+\\binom{480+8-1}{8}\\binom{20+2-1}{2}+\\binom{480+7-1}{7}\\binom{20+3-1}{3}$\n",
        "               \n",
        "              $=133488601520294705256.$\n",
        "          </li>\n",
        "          <li>$\\binom{500+10-1}{10}-\\binom{480+10-1}{10}=97911338401763709394.$\n",
        "      </ol>\n",
        "  </li>\n",
        "  <li>$\\binom{14}{8}\\binom{6}{2}\\binom{4}{4}=45045.$</li>\n",
        "  <li>$\\frac{5!}{5}2^5=768.$</li>\n",
        "  <li>\n",
        "      <ol>\n",
        "          <li>$\\binom{12}{3}\\binom{9}{4}\\binom{5}{5}= 27720.$</li>\n",
        "          <li>$\\binom{10}{1}\\binom{9}{4}\\binom{5}{5}$\n",
        "          \n",
        "              $+\\binom{12}{3}\\binom{7}{2}\\binom{5}{5}$\n",
        "              \n",
        "              $+\\binom{12}{3}\\binom{9}{4}\\binom{3}{3}=33600.$\n",
        "          \n",
        "          </li>\n",
        "      </ol>\n",
        "  </li>\n",
        "  <li>$6^3-5^3=91.$</li>\n",
        "    <li>\n",
        "      <ol>\n",
        "          <li>$6!=720$.</li>\n",
        "          <li>$6\\cdot 5^5=18750$.</li>\n",
        "          <li>$\\binom{6}{2}5^4=9375$.</li>\n",
        "          <li>$6^6-6!=45936$.</li>\n",
        "          <li></li>\n",
        "          <li></li>\n",
        "          <li></li>\n",
        "      </ol>\n",
        "  </li>\n",
        "    <li>\n",
        "      <ol>\n",
        "          <li></li>\n",
        "          <li></li>\n",
        "          <li></li>\n",
        "          <li></li>\n",
        "      </ol>\n",
        "  </li>\n",
        "    <li>\n",
        "      <ol>\n",
        "          <li></li>\n",
        "          <li></li>\n",
        "          <li></li>\n",
        "          <li></li>\n",
        "      </ol>\n",
        "  </li>\n",
        "</ol>"
      ]
    }
  ]
}